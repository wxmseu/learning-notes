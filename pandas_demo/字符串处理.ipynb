{
 "cells": [
  {
   "attachments": {},
   "cell_type": "markdown",
   "metadata": {},
   "source": [
    "pandas字符串处理\n",
    "前面我们一ing使用了字符串的处理函数：\n",
    "df['最高温'].str.replace('°','').astype('int32')"
   ]
  },
  {
   "attachments": {},
   "cell_type": "markdown",
   "metadata": {},
   "source": [
    "pandas的字符串处理：\n",
    "1. 使用方法：先获取series的str属性，然后在属性上调用函数\n",
    "2. 只能在字符串列上使用，不能在数字列上使用\n",
    "3. df上没有str属性的处理方法\n",
    "4. series.str并不是python原生字符串，而是自己的一套方法，不过大部分和原生str相似"
   ]
  },
  {
   "attachments": {},
   "cell_type": "markdown",
   "metadata": {},
   "source": [
    "本节演示内容：\n",
    "1. 获取series的str属性，然后使用各种字符串处理函数\n",
    "2. 使用str的startswith、contains等bool类series可以做条件查询\n",
    "3. 需要多次str处理的链式操作\n",
    "4. 使用正则表达式的处理"
   ]
  },
  {
   "cell_type": "code",
   "execution_count": 1,
   "metadata": {},
   "outputs": [],
   "source": [
    "import pandas as pd\n",
    "df=pd.read_excel('./weater_beijing.xlsx')"
   ]
  },
  {
   "cell_type": "code",
   "execution_count": 2,
   "metadata": {},
   "outputs": [
    {
     "data": {
      "text/plain": [
       "日期        object\n",
       "最高温       object\n",
       "最低温       object\n",
       "天气        object\n",
       "风力风向      object\n",
       "空气质量指数    object\n",
       "dtype: object"
      ]
     },
     "execution_count": 2,
     "metadata": {},
     "output_type": "execute_result"
    }
   ],
   "source": [
    "df.dtypes"
   ]
  },
  {
   "cell_type": "code",
   "execution_count": 3,
   "metadata": {},
   "outputs": [
    {
     "data": {
      "text/html": [
       "<div>\n",
       "<style scoped>\n",
       "    .dataframe tbody tr th:only-of-type {\n",
       "        vertical-align: middle;\n",
       "    }\n",
       "\n",
       "    .dataframe tbody tr th {\n",
       "        vertical-align: top;\n",
       "    }\n",
       "\n",
       "    .dataframe thead th {\n",
       "        text-align: right;\n",
       "    }\n",
       "</style>\n",
       "<table border=\"1\" class=\"dataframe\">\n",
       "  <thead>\n",
       "    <tr style=\"text-align: right;\">\n",
       "      <th></th>\n",
       "      <th>日期</th>\n",
       "      <th>最高温</th>\n",
       "      <th>最低温</th>\n",
       "      <th>天气</th>\n",
       "      <th>风力风向</th>\n",
       "      <th>空气质量指数</th>\n",
       "    </tr>\n",
       "  </thead>\n",
       "  <tbody>\n",
       "    <tr>\n",
       "      <th>0</th>\n",
       "      <td>2011-01-01 周六</td>\n",
       "      <td>-2°</td>\n",
       "      <td>-7°</td>\n",
       "      <td>多云~阴</td>\n",
       "      <td>无持续风向微风</td>\n",
       "      <td>NaN</td>\n",
       "    </tr>\n",
       "    <tr>\n",
       "      <th>1</th>\n",
       "      <td>2011-01-02 周日</td>\n",
       "      <td>-2°</td>\n",
       "      <td>-7°</td>\n",
       "      <td>多云</td>\n",
       "      <td>无持续风向微风</td>\n",
       "      <td>NaN</td>\n",
       "    </tr>\n",
       "    <tr>\n",
       "      <th>2</th>\n",
       "      <td>2011-01-03 周一</td>\n",
       "      <td>-2°</td>\n",
       "      <td>-6°</td>\n",
       "      <td>多云~阴</td>\n",
       "      <td>西北风~北风3-4级~4-5级</td>\n",
       "      <td>NaN</td>\n",
       "    </tr>\n",
       "    <tr>\n",
       "      <th>3</th>\n",
       "      <td>2011-01-04 周二</td>\n",
       "      <td>-2°</td>\n",
       "      <td>-9°</td>\n",
       "      <td>晴</td>\n",
       "      <td>北风5-6级</td>\n",
       "      <td>NaN</td>\n",
       "    </tr>\n",
       "    <tr>\n",
       "      <th>4</th>\n",
       "      <td>2011-01-05 周三</td>\n",
       "      <td>-2°</td>\n",
       "      <td>-10°</td>\n",
       "      <td>晴</td>\n",
       "      <td>北风~无持续风向3-4级~微风</td>\n",
       "      <td>NaN</td>\n",
       "    </tr>\n",
       "  </tbody>\n",
       "</table>\n",
       "</div>"
      ],
      "text/plain": [
       "              日期  最高温   最低温    天气             风力风向 空气质量指数\n",
       "0  2011-01-01 周六  -2°   -7°  多云~阴          无持续风向微风    NaN\n",
       "1  2011-01-02 周日  -2°   -7°    多云          无持续风向微风    NaN\n",
       "2  2011-01-03 周一  -2°   -6°  多云~阴  西北风~北风3-4级~4-5级    NaN\n",
       "3  2011-01-04 周二  -2°   -9°     晴           北风5-6级    NaN\n",
       "4  2011-01-05 周三  -2°  -10°     晴  北风~无持续风向3-4级~微风    NaN"
      ]
     },
     "execution_count": 3,
     "metadata": {},
     "output_type": "execute_result"
    }
   ],
   "source": [
    "df.head()"
   ]
  },
  {
   "attachments": {},
   "cell_type": "markdown",
   "metadata": {},
   "source": [
    "1. 获取series的str属性，使用各种字符串处理函数"
   ]
  },
  {
   "cell_type": "code",
   "execution_count": 4,
   "metadata": {},
   "outputs": [
    {
     "data": {
      "text/plain": [
       "<pandas.core.strings.accessor.StringMethods at 0x26ce52506d0>"
      ]
     },
     "execution_count": 4,
     "metadata": {},
     "output_type": "execute_result"
    }
   ],
   "source": [
    "df['日期'].str"
   ]
  },
  {
   "cell_type": "code",
   "execution_count": 6,
   "metadata": {},
   "outputs": [
    {
     "data": {
      "text/plain": [
       "0        -7\n",
       "1        -7\n",
       "2        -6\n",
       "3        -9\n",
       "4       -10\n",
       "       ... \n",
       "4001     -8\n",
       "4002     -5\n",
       "4003     -5\n",
       "4004     -7\n",
       "4005     -7\n",
       "Name: 最低温, Length: 4006, dtype: object"
      ]
     },
     "execution_count": 6,
     "metadata": {},
     "output_type": "execute_result"
    }
   ],
   "source": [
    "# 字符串替代函数\n",
    "df['最低温'].str.replace('°','')"
   ]
  },
  {
   "cell_type": "code",
   "execution_count": 7,
   "metadata": {},
   "outputs": [
    {
     "data": {
      "text/plain": [
       "0       False\n",
       "1       False\n",
       "2       False\n",
       "3       False\n",
       "4       False\n",
       "        ...  \n",
       "4001    False\n",
       "4002    False\n",
       "4003    False\n",
       "4004    False\n",
       "4005    False\n",
       "Name: 最高温, Length: 4006, dtype: bool"
      ]
     },
     "execution_count": 7,
     "metadata": {},
     "output_type": "execute_result"
    }
   ],
   "source": [
    "# 判断是不是数字\n",
    "df['最高温'].str.isnumeric()"
   ]
  },
  {
   "attachments": {},
   "cell_type": "markdown",
   "metadata": {},
   "source": [
    "2. 使用str的startswith、contains等得到bool的series可以做条件查询"
   ]
  },
  {
   "cell_type": "code",
   "execution_count": 8,
   "metadata": {},
   "outputs": [],
   "source": [
    "condition=df['日期'].str.startswith('2018-01')"
   ]
  },
  {
   "cell_type": "code",
   "execution_count": 9,
   "metadata": {},
   "outputs": [
    {
     "data": {
      "text/plain": [
       "0       False\n",
       "1       False\n",
       "2       False\n",
       "3       False\n",
       "4       False\n",
       "        ...  \n",
       "4001    False\n",
       "4002    False\n",
       "4003    False\n",
       "4004    False\n",
       "4005    False\n",
       "Name: 日期, Length: 4006, dtype: bool"
      ]
     },
     "execution_count": 9,
     "metadata": {},
     "output_type": "execute_result"
    }
   ],
   "source": [
    "condition"
   ]
  },
  {
   "cell_type": "code",
   "execution_count": 10,
   "metadata": {},
   "outputs": [
    {
     "data": {
      "text/html": [
       "<div>\n",
       "<style scoped>\n",
       "    .dataframe tbody tr th:only-of-type {\n",
       "        vertical-align: middle;\n",
       "    }\n",
       "\n",
       "    .dataframe tbody tr th {\n",
       "        vertical-align: top;\n",
       "    }\n",
       "\n",
       "    .dataframe thead th {\n",
       "        text-align: right;\n",
       "    }\n",
       "</style>\n",
       "<table border=\"1\" class=\"dataframe\">\n",
       "  <thead>\n",
       "    <tr style=\"text-align: right;\">\n",
       "      <th></th>\n",
       "      <th>日期</th>\n",
       "      <th>最高温</th>\n",
       "      <th>最低温</th>\n",
       "      <th>天气</th>\n",
       "      <th>风力风向</th>\n",
       "      <th>空气质量指数</th>\n",
       "    </tr>\n",
       "  </thead>\n",
       "  <tbody>\n",
       "    <tr>\n",
       "      <th>2545</th>\n",
       "      <td>2018-01-01 周一</td>\n",
       "      <td>3°</td>\n",
       "      <td>-6°</td>\n",
       "      <td>晴~多云</td>\n",
       "      <td>东北风1-2级</td>\n",
       "      <td>59 良</td>\n",
       "    </tr>\n",
       "    <tr>\n",
       "      <th>2546</th>\n",
       "      <td>2018-01-02 周二</td>\n",
       "      <td>2°</td>\n",
       "      <td>-5°</td>\n",
       "      <td>阴~多云</td>\n",
       "      <td>东北风1-2级</td>\n",
       "      <td>49 优</td>\n",
       "    </tr>\n",
       "    <tr>\n",
       "      <th>2547</th>\n",
       "      <td>2018-01-03 周三</td>\n",
       "      <td>2°</td>\n",
       "      <td>-5°</td>\n",
       "      <td>多云</td>\n",
       "      <td>北风1-2级</td>\n",
       "      <td>28 优</td>\n",
       "    </tr>\n",
       "    <tr>\n",
       "      <th>2548</th>\n",
       "      <td>2018-01-04 周四</td>\n",
       "      <td>0°</td>\n",
       "      <td>-8°</td>\n",
       "      <td>阴</td>\n",
       "      <td>东北风1-2级</td>\n",
       "      <td>28 优</td>\n",
       "    </tr>\n",
       "    <tr>\n",
       "      <th>2549</th>\n",
       "      <td>2018-01-05 周五</td>\n",
       "      <td>3°</td>\n",
       "      <td>-6°</td>\n",
       "      <td>多云~晴</td>\n",
       "      <td>西北风1-2级</td>\n",
       "      <td>50 优</td>\n",
       "    </tr>\n",
       "  </tbody>\n",
       "</table>\n",
       "</div>"
      ],
      "text/plain": [
       "                 日期 最高温  最低温    天气     风力风向 空气质量指数\n",
       "2545  2018-01-01 周一  3°  -6°  晴~多云  东北风1-2级   59 良\n",
       "2546  2018-01-02 周二  2°  -5°  阴~多云  东北风1-2级   49 优\n",
       "2547  2018-01-03 周三  2°  -5°    多云   北风1-2级   28 优\n",
       "2548  2018-01-04 周四  0°  -8°     阴  东北风1-2级   28 优\n",
       "2549  2018-01-05 周五  3°  -6°  多云~晴  西北风1-2级   50 优"
      ]
     },
     "execution_count": 10,
     "metadata": {},
     "output_type": "execute_result"
    }
   ],
   "source": [
    "df[condition].head()"
   ]
  },
  {
   "attachments": {},
   "cell_type": "markdown",
   "metadata": {},
   "source": [
    "3. 需要多次str处理的链式操作\n",
    "怎么提取201803这样的数字月份\n",
    "    1. 先将日期2018-03-31替换成20180331的形式\n",
    "    2. 提取月份字符串201803"
   ]
  },
  {
   "cell_type": "code",
   "execution_count": 11,
   "metadata": {},
   "outputs": [
    {
     "data": {
      "text/plain": [
       "0       201101\n",
       "1       201101\n",
       "2       201101\n",
       "3       201101\n",
       "4       201101\n",
       "         ...  \n",
       "4001    202112\n",
       "4002    202112\n",
       "4003    202112\n",
       "4004    202112\n",
       "4005    202112\n",
       "Name: 日期, Length: 4006, dtype: object"
      ]
     },
     "execution_count": 11,
     "metadata": {},
     "output_type": "execute_result"
    }
   ],
   "source": [
    "df['日期'].str.replace('-','').str[:6]\n",
    "# df['日期'].str.replace('-','').str.slice(0,6) series.replace后得到的仍然是一个series，需要再调用str才能使用str方法"
   ]
  },
  {
   "attachments": {},
   "cell_type": "markdown",
   "metadata": {},
   "source": [
    "4. 使用正则表达式的处理"
   ]
  },
  {
   "cell_type": "code",
   "execution_count": 13,
   "metadata": {},
   "outputs": [],
   "source": [
    "# 添加新列\n",
    "def get_nianyueri(x):\n",
    "    date=x['日期'].split(' ')[0]\n",
    "    year,month,day=date.split('-')\n",
    "    return f'{year}年{month}月{day}日'\n",
    "\n",
    "df['中文日期']=df.apply(get_nianyueri,axis=1)"
   ]
  },
  {
   "cell_type": "code",
   "execution_count": 14,
   "metadata": {},
   "outputs": [
    {
     "data": {
      "text/plain": [
       "0       2011年01月01日\n",
       "1       2011年01月02日\n",
       "2       2011年01月03日\n",
       "3       2011年01月04日\n",
       "4       2011年01月05日\n",
       "           ...     \n",
       "4001    2021年12月27日\n",
       "4002    2021年12月28日\n",
       "4003    2021年12月29日\n",
       "4004    2021年12月30日\n",
       "4005    2021年12月31日\n",
       "Name: 中文日期, Length: 4006, dtype: object"
      ]
     },
     "execution_count": 14,
     "metadata": {},
     "output_type": "execute_result"
    }
   ],
   "source": [
    "df['中文日期']"
   ]
  },
  {
   "attachments": {},
   "cell_type": "markdown",
   "metadata": {},
   "source": [
    "问题：怎么样将2018年12月31日中的 年月日三个中文字去掉"
   ]
  },
  {
   "cell_type": "code",
   "execution_count": null,
   "metadata": {},
   "outputs": [],
   "source": [
    "# 方法1：链式replace\n",
    "df['中文日期'].str.replace(\"年\",'').str.replace('月','').str.replace('日','')"
   ]
  },
  {
   "attachments": {},
   "cell_type": "markdown",
   "metadata": {},
   "source": [
    "series.str默认开启了正则表达式模块"
   ]
  },
  {
   "cell_type": "code",
   "execution_count": 15,
   "metadata": {},
   "outputs": [
    {
     "name": "stderr",
     "output_type": "stream",
     "text": [
      "C:\\Users\\JDQ\\AppData\\Local\\Temp\\ipykernel_17508\\171965364.py:2: FutureWarning: The default value of regex will change from True to False in a future version.\n",
      "  df['中文日期'].str.replace('[年月日]','')\n"
     ]
    },
    {
     "data": {
      "text/plain": [
       "0       20110101\n",
       "1       20110102\n",
       "2       20110103\n",
       "3       20110104\n",
       "4       20110105\n",
       "          ...   \n",
       "4001    20211227\n",
       "4002    20211228\n",
       "4003    20211229\n",
       "4004    20211230\n",
       "4005    20211231\n",
       "Name: 中文日期, Length: 4006, dtype: object"
      ]
     },
     "execution_count": 15,
     "metadata": {},
     "output_type": "execute_result"
    }
   ],
   "source": [
    "# 方法2：正则表达式替换\n",
    "df['中文日期'].str.replace('[年月日]','')"
   ]
  }
 ],
 "metadata": {
  "kernelspec": {
   "display_name": "Python 3",
   "language": "python",
   "name": "python3"
  },
  "language_info": {
   "codemirror_mode": {
    "name": "ipython",
    "version": 3
   },
   "file_extension": ".py",
   "mimetype": "text/x-python",
   "name": "python",
   "nbconvert_exporter": "python",
   "pygments_lexer": "ipython3",
   "version": "3.10.8"
  },
  "orig_nbformat": 4
 },
 "nbformat": 4,
 "nbformat_minor": 2
}
