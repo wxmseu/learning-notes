{
 "cells": [
  {
   "attachments": {},
   "cell_type": "markdown",
   "metadata": {},
   "source": [
    "pandas实现数据的合并：concat\n",
    "**使用场景：**\n",
    "批量合并相同格式的excel、给df添加行、给df添加列\n",
    "\n",
    "<font color=\"red\">说明concat语法</font>：\n",
    "- 使用某种合并方式（inner/outer）\n",
    "- 沿着某个轴向（axis=0/1）\n",
    "- 把多个pandas对象（df/series）合并成一个\n",
    "\n",
    "concat语法：pandas.concat(objs,axis=0,join='inner',ignore_index=False)\n",
    "- objs:一个列表，内容可以是df或者series，可以混合使用\n",
    "- axis：默认是0代表按照行合并，为1是列合并\n",
    "- join：合并的时候索引的对齐方式，默认是outer join ，也可以是inner join（只合并重复的列）\n",
    "- ignore_index:是否忽略原来的索引\n",
    "\n",
    "append语法：df.append(other,ignore_False)\n",
    "append只有按行合并，没有按列合并，相当于concat 的按行简写\n",
    "- other：单个df列，series、dict、列表\n",
    "- ignore_index:是否忽略原来的索引\n",
    "\n",
    "\n"
   ]
  },
  {
   "cell_type": "code",
   "execution_count": null,
   "metadata": {},
   "outputs": [],
   "source": []
  }
 ],
 "metadata": {
  "language_info": {
   "name": "python"
  },
  "orig_nbformat": 4
 },
 "nbformat": 4,
 "nbformat_minor": 2
}
