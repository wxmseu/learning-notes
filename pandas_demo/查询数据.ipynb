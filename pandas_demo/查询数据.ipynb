{
 "cells": [
  {
   "attachments": {},
   "cell_type": "markdown",
   "metadata": {},
   "source": [
    "pandas查询数据的几种方法\n",
    "1. df.loc方法，根据行、列的标签值查询\n",
    "2. df.iloc方法，根据行、列的数字位置查询\n",
    "3. df.where方法\n",
    "4. df.query方法\n",
    ".loc既能查询，又能覆盖写入，强烈推荐"
   ]
  },
  {
   "attachments": {},
   "cell_type": "markdown",
   "metadata": {},
   "source": [
    "pandas使用df.loc查询数据的方法\n",
    "\n",
    "1. 使用单个label值查询\n",
    "2. 使用值列表批量查询\n",
    "3. 使用数值区间进行范围查询\n",
    "4. 使用条件表达式查询\n",
    "5. 调用函数查询\n",
    "\n",
    "注意：\n",
    "以上查询方法，即适用于行，也适用于列\n",
    "注意观察降维datafram>series>值"
   ]
  },
  {
   "cell_type": "code",
   "execution_count": 1,
   "metadata": {},
   "outputs": [
    {
     "data": {
      "text/html": [
       "<div>\n",
       "<style scoped>\n",
       "    .dataframe tbody tr th:only-of-type {\n",
       "        vertical-align: middle;\n",
       "    }\n",
       "\n",
       "    .dataframe tbody tr th {\n",
       "        vertical-align: top;\n",
       "    }\n",
       "\n",
       "    .dataframe thead th {\n",
       "        text-align: right;\n",
       "    }\n",
       "</style>\n",
       "<table border=\"1\" class=\"dataframe\">\n",
       "  <thead>\n",
       "    <tr style=\"text-align: right;\">\n",
       "      <th></th>\n",
       "      <th>日期</th>\n",
       "      <th>最高温</th>\n",
       "      <th>最低温</th>\n",
       "      <th>天气</th>\n",
       "      <th>风力风向</th>\n",
       "      <th>空气质量指数</th>\n",
       "    </tr>\n",
       "  </thead>\n",
       "  <tbody>\n",
       "    <tr>\n",
       "      <th>0</th>\n",
       "      <td>2011-01-01 周六</td>\n",
       "      <td>-2°</td>\n",
       "      <td>-7°</td>\n",
       "      <td>多云~阴</td>\n",
       "      <td>无持续风向微风</td>\n",
       "      <td>NaN</td>\n",
       "    </tr>\n",
       "    <tr>\n",
       "      <th>1</th>\n",
       "      <td>2011-01-02 周日</td>\n",
       "      <td>-2°</td>\n",
       "      <td>-7°</td>\n",
       "      <td>多云</td>\n",
       "      <td>无持续风向微风</td>\n",
       "      <td>NaN</td>\n",
       "    </tr>\n",
       "    <tr>\n",
       "      <th>2</th>\n",
       "      <td>2011-01-03 周一</td>\n",
       "      <td>-2°</td>\n",
       "      <td>-6°</td>\n",
       "      <td>多云~阴</td>\n",
       "      <td>西北风~北风3-4级~4-5级</td>\n",
       "      <td>NaN</td>\n",
       "    </tr>\n",
       "    <tr>\n",
       "      <th>3</th>\n",
       "      <td>2011-01-04 周二</td>\n",
       "      <td>-2°</td>\n",
       "      <td>-9°</td>\n",
       "      <td>晴</td>\n",
       "      <td>北风5-6级</td>\n",
       "      <td>NaN</td>\n",
       "    </tr>\n",
       "    <tr>\n",
       "      <th>4</th>\n",
       "      <td>2011-01-05 周三</td>\n",
       "      <td>-2°</td>\n",
       "      <td>-10°</td>\n",
       "      <td>晴</td>\n",
       "      <td>北风~无持续风向3-4级~微风</td>\n",
       "      <td>NaN</td>\n",
       "    </tr>\n",
       "  </tbody>\n",
       "</table>\n",
       "</div>"
      ],
      "text/plain": [
       "              日期  最高温   最低温    天气             风力风向 空气质量指数\n",
       "0  2011-01-01 周六  -2°   -7°  多云~阴          无持续风向微风    NaN\n",
       "1  2011-01-02 周日  -2°   -7°    多云          无持续风向微风    NaN\n",
       "2  2011-01-03 周一  -2°   -6°  多云~阴  西北风~北风3-4级~4-5级    NaN\n",
       "3  2011-01-04 周二  -2°   -9°     晴           北风5-6级    NaN\n",
       "4  2011-01-05 周三  -2°  -10°     晴  北风~无持续风向3-4级~微风    NaN"
      ]
     },
     "execution_count": 1,
     "metadata": {},
     "output_type": "execute_result"
    }
   ],
   "source": [
    "import pandas as pd\n",
    "df=pd.read_excel(\"./weater_beijing.xlsx\")\n",
    "df.head()"
   ]
  },
  {
   "cell_type": "code",
   "execution_count": 2,
   "metadata": {},
   "outputs": [
    {
     "data": {
      "text/html": [
       "<div>\n",
       "<style scoped>\n",
       "    .dataframe tbody tr th:only-of-type {\n",
       "        vertical-align: middle;\n",
       "    }\n",
       "\n",
       "    .dataframe tbody tr th {\n",
       "        vertical-align: top;\n",
       "    }\n",
       "\n",
       "    .dataframe thead th {\n",
       "        text-align: right;\n",
       "    }\n",
       "</style>\n",
       "<table border=\"1\" class=\"dataframe\">\n",
       "  <thead>\n",
       "    <tr style=\"text-align: right;\">\n",
       "      <th></th>\n",
       "      <th>日期</th>\n",
       "      <th>最高温</th>\n",
       "      <th>最低温</th>\n",
       "      <th>天气</th>\n",
       "      <th>风力风向</th>\n",
       "      <th>空气质量指数</th>\n",
       "    </tr>\n",
       "  </thead>\n",
       "  <tbody>\n",
       "    <tr>\n",
       "      <th>0</th>\n",
       "      <td>2011-01-01 周六</td>\n",
       "      <td>-2°</td>\n",
       "      <td>-7°</td>\n",
       "      <td>多云~阴</td>\n",
       "      <td>无持续风向微风</td>\n",
       "      <td>NaN</td>\n",
       "    </tr>\n",
       "    <tr>\n",
       "      <th>1</th>\n",
       "      <td>2011-01-02 周日</td>\n",
       "      <td>-2°</td>\n",
       "      <td>-7°</td>\n",
       "      <td>多云</td>\n",
       "      <td>无持续风向微风</td>\n",
       "      <td>NaN</td>\n",
       "    </tr>\n",
       "    <tr>\n",
       "      <th>2</th>\n",
       "      <td>2011-01-03 周一</td>\n",
       "      <td>-2°</td>\n",
       "      <td>-6°</td>\n",
       "      <td>多云~阴</td>\n",
       "      <td>西北风~北风3-4级~4-5级</td>\n",
       "      <td>NaN</td>\n",
       "    </tr>\n",
       "    <tr>\n",
       "      <th>3</th>\n",
       "      <td>2011-01-04 周二</td>\n",
       "      <td>-2°</td>\n",
       "      <td>-9°</td>\n",
       "      <td>晴</td>\n",
       "      <td>北风5-6级</td>\n",
       "      <td>NaN</td>\n",
       "    </tr>\n",
       "    <tr>\n",
       "      <th>4</th>\n",
       "      <td>2011-01-05 周三</td>\n",
       "      <td>-2°</td>\n",
       "      <td>-10°</td>\n",
       "      <td>晴</td>\n",
       "      <td>北风~无持续风向3-4级~微风</td>\n",
       "      <td>NaN</td>\n",
       "    </tr>\n",
       "  </tbody>\n",
       "</table>\n",
       "</div>"
      ],
      "text/plain": [
       "              日期  最高温   最低温    天气             风力风向 空气质量指数\n",
       "0  2011-01-01 周六  -2°   -7°  多云~阴          无持续风向微风    NaN\n",
       "1  2011-01-02 周日  -2°   -7°    多云          无持续风向微风    NaN\n",
       "2  2011-01-03 周一  -2°   -6°  多云~阴  西北风~北风3-4级~4-5级    NaN\n",
       "3  2011-01-04 周二  -2°   -9°     晴           北风5-6级    NaN\n",
       "4  2011-01-05 周三  -2°  -10°     晴  北风~无持续风向3-4级~微风    NaN"
      ]
     },
     "execution_count": 2,
     "metadata": {},
     "output_type": "execute_result"
    }
   ],
   "source": [
    "df.head()"
   ]
  },
  {
   "cell_type": "code",
   "execution_count": 3,
   "metadata": {},
   "outputs": [],
   "source": [
    "df.loc[:,'weekday']=df['日期'].str[-2:]\n"
   ]
  },
  {
   "cell_type": "code",
   "execution_count": 4,
   "metadata": {},
   "outputs": [],
   "source": [
    "df.loc[:,'date']=df['日期'].str[:-2]"
   ]
  },
  {
   "cell_type": "code",
   "execution_count": 5,
   "metadata": {},
   "outputs": [
    {
     "data": {
      "text/plain": [
       "0       2011-01-01 周六\n",
       "1       2011-01-02 周日\n",
       "2       2011-01-03 周一\n",
       "3       2011-01-04 周二\n",
       "4       2011-01-05 周三\n",
       "            ...      \n",
       "4001    2021-12-27 周一\n",
       "4002    2021-12-28 周二\n",
       "4003    2021-12-29 周三\n",
       "4004    2021-12-30 周四\n",
       "4005    2021-12-31 周五\n",
       "Name: 日期, Length: 4006, dtype: object"
      ]
     },
     "execution_count": 5,
     "metadata": {},
     "output_type": "execute_result"
    }
   ],
   "source": [
    "df.pop('日期')"
   ]
  },
  {
   "cell_type": "code",
   "execution_count": 6,
   "metadata": {},
   "outputs": [],
   "source": [
    "# 设定索引为日期 方便按日期筛选\n",
    "df.set_index('date',inplace=True)"
   ]
  },
  {
   "cell_type": "code",
   "execution_count": 7,
   "metadata": {},
   "outputs": [
    {
     "data": {
      "text/plain": [
       "Index(['2011-01-01 ', '2011-01-02 ', '2011-01-03 ', '2011-01-04 ',\n",
       "       '2011-01-05 ', '2011-01-06 ', '2011-01-07 ', '2011-01-08 ',\n",
       "       '2011-01-09 ', '2011-01-10 ',\n",
       "       ...\n",
       "       '2021-12-22 ', '2021-12-23 ', '2021-12-24 ', '2021-12-25 ',\n",
       "       '2021-12-26 ', '2021-12-27 ', '2021-12-28 ', '2021-12-29 ',\n",
       "       '2021-12-30 ', '2021-12-31 '],\n",
       "      dtype='object', name='date', length=4006)"
      ]
     },
     "execution_count": 7,
     "metadata": {},
     "output_type": "execute_result"
    }
   ],
   "source": [
    "# 本次时间序列化按字符串处理\n",
    "df.index"
   ]
  },
  {
   "cell_type": "code",
   "execution_count": 8,
   "metadata": {},
   "outputs": [],
   "source": [
    "# 替换温度的后缀°\n",
    "df.loc[:,'最低温']=df['最低温'].str.replace(\"°\",\"\")\n",
    "df.loc[:,'最高温']=df['最高温'].str.replace(\"°\",\"\")"
   ]
  },
  {
   "cell_type": "code",
   "execution_count": 9,
   "metadata": {},
   "outputs": [],
   "source": [
    "# 将最低温中''替换成0\n",
    "df.loc[:,'最低温']=df['最低温'].replace('','0')"
   ]
  },
  {
   "cell_type": "code",
   "execution_count": 10,
   "metadata": {},
   "outputs": [
    {
     "name": "stderr",
     "output_type": "stream",
     "text": [
      "C:\\Users\\JDQ\\AppData\\Local\\Temp\\ipykernel_8780\\1612433086.py:2: DeprecationWarning: In a future version, `df.iloc[:, i] = newvals` will attempt to set the values inplace instead of always setting a new array. To retain the old behavior, use either `df[df.columns[i]] = newvals` or, if columns are non-unique, `df.isetitem(i, newvals)`\n",
      "  df.loc[:,'最低温']=df.loc[:,'最低温'].astype('int32')\n",
      "C:\\Users\\JDQ\\AppData\\Local\\Temp\\ipykernel_8780\\1612433086.py:3: DeprecationWarning: In a future version, `df.iloc[:, i] = newvals` will attempt to set the values inplace instead of always setting a new array. To retain the old behavior, use either `df[df.columns[i]] = newvals` or, if columns are non-unique, `df.isetitem(i, newvals)`\n",
      "  df.loc[:,'最高温']=df.loc[:,'最高温'].astype('int32')\n"
     ]
    }
   ],
   "source": [
    "# 将最高温和最低温列的obj类型转换成int型\n",
    "df.loc[:,'最低温']=df.loc[:,'最低温'].astype('int32')\n",
    "df.loc[:,'最高温']=df.loc[:,'最高温'].astype('int32')"
   ]
  },
  {
   "cell_type": "code",
   "execution_count": 11,
   "metadata": {},
   "outputs": [
    {
     "data": {
      "text/plain": [
       "最高温         int32\n",
       "最低温         int32\n",
       "天气         object\n",
       "风力风向       object\n",
       "空气质量指数     object\n",
       "weekday    object\n",
       "dtype: object"
      ]
     },
     "execution_count": 11,
     "metadata": {},
     "output_type": "execute_result"
    }
   ],
   "source": [
    "df.dtypes"
   ]
  },
  {
   "cell_type": "code",
   "execution_count": 12,
   "metadata": {},
   "outputs": [
    {
     "data": {
      "text/html": [
       "<div>\n",
       "<style scoped>\n",
       "    .dataframe tbody tr th:only-of-type {\n",
       "        vertical-align: middle;\n",
       "    }\n",
       "\n",
       "    .dataframe tbody tr th {\n",
       "        vertical-align: top;\n",
       "    }\n",
       "\n",
       "    .dataframe thead th {\n",
       "        text-align: right;\n",
       "    }\n",
       "</style>\n",
       "<table border=\"1\" class=\"dataframe\">\n",
       "  <thead>\n",
       "    <tr style=\"text-align: right;\">\n",
       "      <th></th>\n",
       "      <th>最高温</th>\n",
       "      <th>最低温</th>\n",
       "      <th>天气</th>\n",
       "      <th>风力风向</th>\n",
       "      <th>空气质量指数</th>\n",
       "      <th>weekday</th>\n",
       "    </tr>\n",
       "    <tr>\n",
       "      <th>date</th>\n",
       "      <th></th>\n",
       "      <th></th>\n",
       "      <th></th>\n",
       "      <th></th>\n",
       "      <th></th>\n",
       "      <th></th>\n",
       "    </tr>\n",
       "  </thead>\n",
       "  <tbody>\n",
       "    <tr>\n",
       "      <th>2011-01-01</th>\n",
       "      <td>-2</td>\n",
       "      <td>-7</td>\n",
       "      <td>多云~阴</td>\n",
       "      <td>无持续风向微风</td>\n",
       "      <td>NaN</td>\n",
       "      <td>周六</td>\n",
       "    </tr>\n",
       "    <tr>\n",
       "      <th>2011-01-02</th>\n",
       "      <td>-2</td>\n",
       "      <td>-7</td>\n",
       "      <td>多云</td>\n",
       "      <td>无持续风向微风</td>\n",
       "      <td>NaN</td>\n",
       "      <td>周日</td>\n",
       "    </tr>\n",
       "    <tr>\n",
       "      <th>2011-01-03</th>\n",
       "      <td>-2</td>\n",
       "      <td>-6</td>\n",
       "      <td>多云~阴</td>\n",
       "      <td>西北风~北风3-4级~4-5级</td>\n",
       "      <td>NaN</td>\n",
       "      <td>周一</td>\n",
       "    </tr>\n",
       "    <tr>\n",
       "      <th>2011-01-04</th>\n",
       "      <td>-2</td>\n",
       "      <td>-9</td>\n",
       "      <td>晴</td>\n",
       "      <td>北风5-6级</td>\n",
       "      <td>NaN</td>\n",
       "      <td>周二</td>\n",
       "    </tr>\n",
       "    <tr>\n",
       "      <th>2011-01-05</th>\n",
       "      <td>-2</td>\n",
       "      <td>-10</td>\n",
       "      <td>晴</td>\n",
       "      <td>北风~无持续风向3-4级~微风</td>\n",
       "      <td>NaN</td>\n",
       "      <td>周三</td>\n",
       "    </tr>\n",
       "  </tbody>\n",
       "</table>\n",
       "</div>"
      ],
      "text/plain": [
       "             最高温  最低温    天气             风力风向 空气质量指数 weekday\n",
       "date                                                       \n",
       "2011-01-01    -2   -7  多云~阴          无持续风向微风    NaN      周六\n",
       "2011-01-02    -2   -7    多云          无持续风向微风    NaN      周日\n",
       "2011-01-03    -2   -6  多云~阴  西北风~北风3-4级~4-5级    NaN      周一\n",
       "2011-01-04    -2   -9     晴           北风5-6级    NaN      周二\n",
       "2011-01-05    -2  -10     晴  北风~无持续风向3-4级~微风    NaN      周三"
      ]
     },
     "execution_count": 12,
     "metadata": {},
     "output_type": "execute_result"
    }
   ],
   "source": [
    "df.head()"
   ]
  },
  {
   "attachments": {},
   "cell_type": "markdown",
   "metadata": {},
   "source": [
    "1. 使用单个label值查询数据\n",
    "行或者列，都可以只传入单个值，实现精确匹配"
   ]
  },
  {
   "cell_type": "code",
   "execution_count": 13,
   "metadata": {},
   "outputs": [
    {
     "data": {
      "text/plain": [
       "'晴'"
      ]
     },
     "execution_count": 13,
     "metadata": {},
     "output_type": "execute_result"
    }
   ],
   "source": [
    "# 得到单个值\n",
    "# 这里发现经过处理的日期后面带有一个空格\n",
    "df.loc['2011-01-09 ','天气']"
   ]
  },
  {
   "cell_type": "code",
   "execution_count": 14,
   "metadata": {},
   "outputs": [
    {
     "data": {
      "text/plain": [
       "最高温    16\n",
       "最低温     5\n",
       "Name: 2011-10-25 , dtype: object"
      ]
     },
     "execution_count": 14,
     "metadata": {},
     "output_type": "execute_result"
    }
   ],
   "source": [
    "# 得到一个series\n",
    "df.loc['2011-10-25 ',['最高温','最低温']]"
   ]
  },
  {
   "attachments": {},
   "cell_type": "markdown",
   "metadata": {},
   "source": [
    "2. 使用值列表批量查询"
   ]
  },
  {
   "cell_type": "code",
   "execution_count": 15,
   "metadata": {},
   "outputs": [
    {
     "data": {
      "text/html": [
       "<div>\n",
       "<style scoped>\n",
       "    .dataframe tbody tr th:only-of-type {\n",
       "        vertical-align: middle;\n",
       "    }\n",
       "\n",
       "    .dataframe tbody tr th {\n",
       "        vertical-align: top;\n",
       "    }\n",
       "\n",
       "    .dataframe thead th {\n",
       "        text-align: right;\n",
       "    }\n",
       "</style>\n",
       "<table border=\"1\" class=\"dataframe\">\n",
       "  <thead>\n",
       "    <tr style=\"text-align: right;\">\n",
       "      <th></th>\n",
       "      <th>天气</th>\n",
       "    </tr>\n",
       "    <tr>\n",
       "      <th>date</th>\n",
       "      <th></th>\n",
       "    </tr>\n",
       "  </thead>\n",
       "  <tbody>\n",
       "    <tr>\n",
       "      <th>2018-05-02</th>\n",
       "      <td>多云~晴</td>\n",
       "    </tr>\n",
       "    <tr>\n",
       "      <th>2018-06-02</th>\n",
       "      <td>多云</td>\n",
       "    </tr>\n",
       "    <tr>\n",
       "      <th>2018-07-02</th>\n",
       "      <td>多云~雷阵雨</td>\n",
       "    </tr>\n",
       "  </tbody>\n",
       "</table>\n",
       "</div>"
      ],
      "text/plain": [
       "                 天气\n",
       "date               \n",
       "2018-05-02     多云~晴\n",
       "2018-06-02       多云\n",
       "2018-07-02   多云~雷阵雨"
      ]
     },
     "execution_count": 15,
     "metadata": {},
     "output_type": "execute_result"
    }
   ],
   "source": [
    "# 得到series\n",
    "df.loc[['2018-05-02 ','2018-06-02 ','2018-07-02 '],['天气']]"
   ]
  },
  {
   "cell_type": "code",
   "execution_count": 16,
   "metadata": {},
   "outputs": [
    {
     "data": {
      "text/html": [
       "<div>\n",
       "<style scoped>\n",
       "    .dataframe tbody tr th:only-of-type {\n",
       "        vertical-align: middle;\n",
       "    }\n",
       "\n",
       "    .dataframe tbody tr th {\n",
       "        vertical-align: top;\n",
       "    }\n",
       "\n",
       "    .dataframe thead th {\n",
       "        text-align: right;\n",
       "    }\n",
       "</style>\n",
       "<table border=\"1\" class=\"dataframe\">\n",
       "  <thead>\n",
       "    <tr style=\"text-align: right;\">\n",
       "      <th></th>\n",
       "      <th>天气</th>\n",
       "      <th>最高温</th>\n",
       "      <th>weekday</th>\n",
       "    </tr>\n",
       "    <tr>\n",
       "      <th>date</th>\n",
       "      <th></th>\n",
       "      <th></th>\n",
       "      <th></th>\n",
       "    </tr>\n",
       "  </thead>\n",
       "  <tbody>\n",
       "    <tr>\n",
       "      <th>2018-05-02</th>\n",
       "      <td>多云~晴</td>\n",
       "      <td>25</td>\n",
       "      <td>周三</td>\n",
       "    </tr>\n",
       "    <tr>\n",
       "      <th>2018-06-02</th>\n",
       "      <td>多云</td>\n",
       "      <td>35</td>\n",
       "      <td>周六</td>\n",
       "    </tr>\n",
       "    <tr>\n",
       "      <th>2018-07-02</th>\n",
       "      <td>多云~雷阵雨</td>\n",
       "      <td>32</td>\n",
       "      <td>周一</td>\n",
       "    </tr>\n",
       "  </tbody>\n",
       "</table>\n",
       "</div>"
      ],
      "text/plain": [
       "                 天气  最高温 weekday\n",
       "date                            \n",
       "2018-05-02     多云~晴   25      周三\n",
       "2018-06-02       多云   35      周六\n",
       "2018-07-02   多云~雷阵雨   32      周一"
      ]
     },
     "execution_count": 16,
     "metadata": {},
     "output_type": "execute_result"
    }
   ],
   "source": [
    "# 得到dataframe\n",
    "df.loc[['2018-05-02 ','2018-06-02 ','2018-07-02 '],['天气','最高温','weekday']]"
   ]
  },
  {
   "attachments": {},
   "cell_type": "markdown",
   "metadata": {},
   "source": [
    "3. 使用数值区间进行范围查询\n",
    "注意：区间既包括开始，也包括结束"
   ]
  },
  {
   "cell_type": "code",
   "execution_count": 17,
   "metadata": {},
   "outputs": [
    {
     "data": {
      "text/plain": [
       "date\n",
       "2018-05-02     多云~晴\n",
       "2018-05-03        晴\n",
       "2018-05-04     晴~多云\n",
       "2018-05-05       多云\n",
       "2018-05-06        晴\n",
       "2018-05-07        晴\n",
       "2018-05-08        晴\n",
       "Name: 天气, dtype: object"
      ]
     },
     "execution_count": 17,
     "metadata": {},
     "output_type": "execute_result"
    }
   ],
   "source": [
    "# 行index按区间\n",
    "df.loc['2018-05-02 ':'2018-05-08 ','天气']"
   ]
  },
  {
   "cell_type": "code",
   "execution_count": 18,
   "metadata": {},
   "outputs": [
    {
     "data": {
      "text/plain": [
       "最高温          28\n",
       "最低温          14\n",
       "天气            晴\n",
       "风力风向    西南风1-2级\n",
       "Name: 2018-05-06 , dtype: object"
      ]
     },
     "execution_count": 18,
     "metadata": {},
     "output_type": "execute_result"
    }
   ],
   "source": [
    "# 列index按区间\n",
    "df.loc['2018-05-06 ','最高温':'风力风向']"
   ]
  },
  {
   "cell_type": "code",
   "execution_count": 19,
   "metadata": {},
   "outputs": [
    {
     "data": {
      "text/html": [
       "<div>\n",
       "<style scoped>\n",
       "    .dataframe tbody tr th:only-of-type {\n",
       "        vertical-align: middle;\n",
       "    }\n",
       "\n",
       "    .dataframe tbody tr th {\n",
       "        vertical-align: top;\n",
       "    }\n",
       "\n",
       "    .dataframe thead th {\n",
       "        text-align: right;\n",
       "    }\n",
       "</style>\n",
       "<table border=\"1\" class=\"dataframe\">\n",
       "  <thead>\n",
       "    <tr style=\"text-align: right;\">\n",
       "      <th></th>\n",
       "      <th>最高温</th>\n",
       "      <th>最低温</th>\n",
       "      <th>天气</th>\n",
       "      <th>风力风向</th>\n",
       "    </tr>\n",
       "    <tr>\n",
       "      <th>date</th>\n",
       "      <th></th>\n",
       "      <th></th>\n",
       "      <th></th>\n",
       "      <th></th>\n",
       "    </tr>\n",
       "  </thead>\n",
       "  <tbody>\n",
       "    <tr>\n",
       "      <th>2018-05-02</th>\n",
       "      <td>25</td>\n",
       "      <td>13</td>\n",
       "      <td>多云~晴</td>\n",
       "      <td>北风3-4级</td>\n",
       "    </tr>\n",
       "    <tr>\n",
       "      <th>2018-05-03</th>\n",
       "      <td>24</td>\n",
       "      <td>12</td>\n",
       "      <td>晴</td>\n",
       "      <td>北风1-2级</td>\n",
       "    </tr>\n",
       "    <tr>\n",
       "      <th>2018-05-04</th>\n",
       "      <td>27</td>\n",
       "      <td>16</td>\n",
       "      <td>晴~多云</td>\n",
       "      <td>西南风1-2级</td>\n",
       "    </tr>\n",
       "    <tr>\n",
       "      <th>2018-05-05</th>\n",
       "      <td>25</td>\n",
       "      <td>13</td>\n",
       "      <td>多云</td>\n",
       "      <td>北风3-4级</td>\n",
       "    </tr>\n",
       "    <tr>\n",
       "      <th>2018-05-06</th>\n",
       "      <td>28</td>\n",
       "      <td>14</td>\n",
       "      <td>晴</td>\n",
       "      <td>西南风1-2级</td>\n",
       "    </tr>\n",
       "    <tr>\n",
       "      <th>2018-05-07</th>\n",
       "      <td>28</td>\n",
       "      <td>13</td>\n",
       "      <td>晴</td>\n",
       "      <td>南风3-4级</td>\n",
       "    </tr>\n",
       "    <tr>\n",
       "      <th>2018-05-08</th>\n",
       "      <td>27</td>\n",
       "      <td>13</td>\n",
       "      <td>晴</td>\n",
       "      <td>东南风3-4级</td>\n",
       "    </tr>\n",
       "  </tbody>\n",
       "</table>\n",
       "</div>"
      ],
      "text/plain": [
       "             最高温  最低温    天气     风力风向\n",
       "date                                \n",
       "2018-05-02    25   13  多云~晴   北风3-4级\n",
       "2018-05-03    24   12     晴   北风1-2级\n",
       "2018-05-04    27   16  晴~多云  西南风1-2级\n",
       "2018-05-05    25   13    多云   北风3-4级\n",
       "2018-05-06    28   14     晴  西南风1-2级\n",
       "2018-05-07    28   13     晴   南风3-4级\n",
       "2018-05-08    27   13     晴  东南风3-4级"
      ]
     },
     "execution_count": 19,
     "metadata": {},
     "output_type": "execute_result"
    }
   ],
   "source": [
    "# 行和列都按区间查询\n",
    "df.loc['2018-05-02 ':'2018-05-08 ','最高温':'风力风向']"
   ]
  },
  {
   "attachments": {},
   "cell_type": "markdown",
   "metadata": {},
   "source": [
    "4. 使用条件表达式查询\n",
    "bool列表的长度等于航宇或者列数"
   ]
  },
  {
   "cell_type": "code",
   "execution_count": 20,
   "metadata": {},
   "outputs": [
    {
     "data": {
      "text/html": [
       "<div>\n",
       "<style scoped>\n",
       "    .dataframe tbody tr th:only-of-type {\n",
       "        vertical-align: middle;\n",
       "    }\n",
       "\n",
       "    .dataframe tbody tr th {\n",
       "        vertical-align: top;\n",
       "    }\n",
       "\n",
       "    .dataframe thead th {\n",
       "        text-align: right;\n",
       "    }\n",
       "</style>\n",
       "<table border=\"1\" class=\"dataframe\">\n",
       "  <thead>\n",
       "    <tr style=\"text-align: right;\">\n",
       "      <th></th>\n",
       "      <th>最高温</th>\n",
       "      <th>最低温</th>\n",
       "      <th>天气</th>\n",
       "      <th>风力风向</th>\n",
       "      <th>空气质量指数</th>\n",
       "      <th>weekday</th>\n",
       "    </tr>\n",
       "    <tr>\n",
       "      <th>date</th>\n",
       "      <th></th>\n",
       "      <th></th>\n",
       "      <th></th>\n",
       "      <th></th>\n",
       "      <th></th>\n",
       "      <th></th>\n",
       "    </tr>\n",
       "  </thead>\n",
       "  <tbody>\n",
       "    <tr>\n",
       "      <th>2012-06-17</th>\n",
       "      <td>38</td>\n",
       "      <td>24</td>\n",
       "      <td>多云~晴</td>\n",
       "      <td>无持续风向微风</td>\n",
       "      <td>NaN</td>\n",
       "      <td>周日</td>\n",
       "    </tr>\n",
       "    <tr>\n",
       "      <th>2014-05-29</th>\n",
       "      <td>38</td>\n",
       "      <td>23</td>\n",
       "      <td>晴间多云~多云转晴</td>\n",
       "      <td>无持续风向微风</td>\n",
       "      <td>NaN</td>\n",
       "      <td>周四</td>\n",
       "    </tr>\n",
       "    <tr>\n",
       "      <th>2015-07-12</th>\n",
       "      <td>38</td>\n",
       "      <td>25</td>\n",
       "      <td>晴</td>\n",
       "      <td>无持续风向微风</td>\n",
       "      <td>NaN</td>\n",
       "      <td>周日</td>\n",
       "    </tr>\n",
       "    <tr>\n",
       "      <th>2015-07-13</th>\n",
       "      <td>40</td>\n",
       "      <td>25</td>\n",
       "      <td>雷雨~晴</td>\n",
       "      <td>无持续风向微风</td>\n",
       "      <td>NaN</td>\n",
       "      <td>周一</td>\n",
       "    </tr>\n",
       "    <tr>\n",
       "      <th>2017-06-15</th>\n",
       "      <td>38</td>\n",
       "      <td>24</td>\n",
       "      <td>晴</td>\n",
       "      <td>南风1-2级</td>\n",
       "      <td>82 良</td>\n",
       "      <td>周四</td>\n",
       "    </tr>\n",
       "    <tr>\n",
       "      <th>2018-06-05</th>\n",
       "      <td>38</td>\n",
       "      <td>25</td>\n",
       "      <td>多云</td>\n",
       "      <td>西南风4-5级</td>\n",
       "      <td>94 良</td>\n",
       "      <td>周二</td>\n",
       "    </tr>\n",
       "    <tr>\n",
       "      <th>2019-07-04</th>\n",
       "      <td>38</td>\n",
       "      <td>25</td>\n",
       "      <td>晴~多云</td>\n",
       "      <td>西南风2级</td>\n",
       "      <td>89 良</td>\n",
       "      <td>周四</td>\n",
       "    </tr>\n",
       "  </tbody>\n",
       "</table>\n",
       "</div>"
      ],
      "text/plain": [
       "             最高温  最低温         天气     风力风向 空气质量指数 weekday\n",
       "date                                                    \n",
       "2012-06-17    38   24       多云~晴  无持续风向微风    NaN      周日\n",
       "2014-05-29    38   23  晴间多云~多云转晴  无持续风向微风    NaN      周四\n",
       "2015-07-12    38   25          晴  无持续风向微风    NaN      周日\n",
       "2015-07-13    40   25       雷雨~晴  无持续风向微风    NaN      周一\n",
       "2017-06-15    38   24          晴   南风1-2级   82 良      周四\n",
       "2018-06-05    38   25         多云  西南风4-5级   94 良      周二\n",
       "2019-07-04    38   25       晴~多云    西南风2级   89 良      周四"
      ]
     },
     "execution_count": 20,
     "metadata": {},
     "output_type": "execute_result"
    }
   ],
   "source": [
    "df.loc[df['最高温']>37,:]"
   ]
  },
  {
   "cell_type": "code",
   "execution_count": 21,
   "metadata": {},
   "outputs": [
    {
     "data": {
      "text/plain": [
       "date\n",
       "2011-01-01     False\n",
       "2011-01-02     False\n",
       "2011-01-03     False\n",
       "2011-01-04     False\n",
       "2011-01-05     False\n",
       "               ...  \n",
       "2021-12-27     False\n",
       "2021-12-28     False\n",
       "2021-12-29     False\n",
       "2021-12-30     False\n",
       "2021-12-31     False\n",
       "Name: 最高温, Length: 4006, dtype: bool"
      ]
     },
     "execution_count": 21,
     "metadata": {},
     "output_type": "execute_result"
    }
   ],
   "source": [
    "# 观察一下这里的boolean条件\n",
    "df['最高温']>37"
   ]
  },
  {
   "attachments": {},
   "cell_type": "markdown",
   "metadata": {},
   "source": [
    "复杂条件查询，查一下我心中的完美天气\n",
    "注意：组合条件用&符号合并，每个条件判断都得带括号"
   ]
  },
  {
   "cell_type": "code",
   "execution_count": 22,
   "metadata": {},
   "outputs": [
    {
     "data": {
      "text/html": [
       "<div>\n",
       "<style scoped>\n",
       "    .dataframe tbody tr th:only-of-type {\n",
       "        vertical-align: middle;\n",
       "    }\n",
       "\n",
       "    .dataframe tbody tr th {\n",
       "        vertical-align: top;\n",
       "    }\n",
       "\n",
       "    .dataframe thead th {\n",
       "        text-align: right;\n",
       "    }\n",
       "</style>\n",
       "<table border=\"1\" class=\"dataframe\">\n",
       "  <thead>\n",
       "    <tr style=\"text-align: right;\">\n",
       "      <th></th>\n",
       "      <th>最高温</th>\n",
       "      <th>最低温</th>\n",
       "      <th>天气</th>\n",
       "      <th>风力风向</th>\n",
       "      <th>空气质量指数</th>\n",
       "      <th>weekday</th>\n",
       "    </tr>\n",
       "    <tr>\n",
       "      <th>date</th>\n",
       "      <th></th>\n",
       "      <th></th>\n",
       "      <th></th>\n",
       "      <th></th>\n",
       "      <th></th>\n",
       "      <th></th>\n",
       "    </tr>\n",
       "  </thead>\n",
       "  <tbody>\n",
       "    <tr>\n",
       "      <th>2012-08-21</th>\n",
       "      <td>29</td>\n",
       "      <td>17</td>\n",
       "      <td>晴</td>\n",
       "      <td>北风3-4级</td>\n",
       "      <td>NaN</td>\n",
       "      <td>周二</td>\n",
       "    </tr>\n",
       "    <tr>\n",
       "      <th>2014-09-09</th>\n",
       "      <td>29</td>\n",
       "      <td>16</td>\n",
       "      <td>晴</td>\n",
       "      <td>无持续风向微风</td>\n",
       "      <td>NaN</td>\n",
       "      <td>周二</td>\n",
       "    </tr>\n",
       "    <tr>\n",
       "      <th>2015-05-19</th>\n",
       "      <td>28</td>\n",
       "      <td>17</td>\n",
       "      <td>晴</td>\n",
       "      <td>北风~无持续风向4-5级~微风</td>\n",
       "      <td>NaN</td>\n",
       "      <td>周二</td>\n",
       "    </tr>\n",
       "    <tr>\n",
       "      <th>2017-08-29</th>\n",
       "      <td>25</td>\n",
       "      <td>16</td>\n",
       "      <td>晴</td>\n",
       "      <td>西南风1-2级</td>\n",
       "      <td>42 优</td>\n",
       "      <td>周二</td>\n",
       "    </tr>\n",
       "    <tr>\n",
       "      <th>2020-04-28</th>\n",
       "      <td>27</td>\n",
       "      <td>16</td>\n",
       "      <td>晴</td>\n",
       "      <td>西南风2级</td>\n",
       "      <td>102 轻度</td>\n",
       "      <td>周二</td>\n",
       "    </tr>\n",
       "    <tr>\n",
       "      <th>2021-09-07</th>\n",
       "      <td>27</td>\n",
       "      <td>17</td>\n",
       "      <td>晴</td>\n",
       "      <td>西南风2级</td>\n",
       "      <td>32 优</td>\n",
       "      <td>周二</td>\n",
       "    </tr>\n",
       "  </tbody>\n",
       "</table>\n",
       "</div>"
      ],
      "text/plain": [
       "             最高温  最低温 天气             风力风向  空气质量指数 weekday\n",
       "date                                                     \n",
       "2012-08-21    29   17  晴           北风3-4级     NaN      周二\n",
       "2014-09-09    29   16  晴          无持续风向微风     NaN      周二\n",
       "2015-05-19    28   17  晴  北风~无持续风向4-5级~微风     NaN      周二\n",
       "2017-08-29    25   16  晴          西南风1-2级    42 优      周二\n",
       "2020-04-28    27   16  晴            西南风2级  102 轻度      周二\n",
       "2021-09-07    27   17  晴            西南风2级    32 优      周二"
      ]
     },
     "execution_count": 22,
     "metadata": {},
     "output_type": "execute_result"
    }
   ],
   "source": [
    "# 查询最高温度小于30度，并且最低温度大于15度，并且是晴天、周二的数据\n",
    "df.loc[(df['最高温']<30)&(df['最低温']>15)&(df['天气']=='晴')&(df['weekday']=='周二')]"
   ]
  },
  {
   "cell_type": "code",
   "execution_count": 23,
   "metadata": {},
   "outputs": [
    {
     "data": {
      "text/plain": [
       "date\n",
       "2011-01-01     False\n",
       "2011-01-02     False\n",
       "2011-01-03     False\n",
       "2011-01-04     False\n",
       "2011-01-05     False\n",
       "               ...  \n",
       "2021-12-27     False\n",
       "2021-12-28     False\n",
       "2021-12-29     False\n",
       "2021-12-30     False\n",
       "2021-12-31     False\n",
       "Length: 4006, dtype: bool"
      ]
     },
     "execution_count": 23,
     "metadata": {},
     "output_type": "execute_result"
    }
   ],
   "source": [
    "# 再次观察这里的boolean条件\n",
    "(df['最高温']<30)&(df['最低温']>15)&(df['天气']=='晴')&(df['weekday']=='周二')"
   ]
  },
  {
   "attachments": {},
   "cell_type": "markdown",
   "metadata": {},
   "source": [
    "5. 调用函数查询"
   ]
  },
  {
   "cell_type": "code",
   "execution_count": 24,
   "metadata": {},
   "outputs": [
    {
     "data": {
      "text/html": [
       "<div>\n",
       "<style scoped>\n",
       "    .dataframe tbody tr th:only-of-type {\n",
       "        vertical-align: middle;\n",
       "    }\n",
       "\n",
       "    .dataframe tbody tr th {\n",
       "        vertical-align: top;\n",
       "    }\n",
       "\n",
       "    .dataframe thead th {\n",
       "        text-align: right;\n",
       "    }\n",
       "</style>\n",
       "<table border=\"1\" class=\"dataframe\">\n",
       "  <thead>\n",
       "    <tr style=\"text-align: right;\">\n",
       "      <th></th>\n",
       "      <th>最高温</th>\n",
       "      <th>最低温</th>\n",
       "      <th>天气</th>\n",
       "      <th>风力风向</th>\n",
       "      <th>空气质量指数</th>\n",
       "      <th>weekday</th>\n",
       "    </tr>\n",
       "    <tr>\n",
       "      <th>date</th>\n",
       "      <th></th>\n",
       "      <th></th>\n",
       "      <th></th>\n",
       "      <th></th>\n",
       "      <th></th>\n",
       "      <th></th>\n",
       "    </tr>\n",
       "  </thead>\n",
       "  <tbody>\n",
       "    <tr>\n",
       "      <th>2012-08-21</th>\n",
       "      <td>29</td>\n",
       "      <td>17</td>\n",
       "      <td>晴</td>\n",
       "      <td>北风3-4级</td>\n",
       "      <td>NaN</td>\n",
       "      <td>周二</td>\n",
       "    </tr>\n",
       "    <tr>\n",
       "      <th>2014-09-09</th>\n",
       "      <td>29</td>\n",
       "      <td>16</td>\n",
       "      <td>晴</td>\n",
       "      <td>无持续风向微风</td>\n",
       "      <td>NaN</td>\n",
       "      <td>周二</td>\n",
       "    </tr>\n",
       "    <tr>\n",
       "      <th>2015-05-19</th>\n",
       "      <td>28</td>\n",
       "      <td>17</td>\n",
       "      <td>晴</td>\n",
       "      <td>北风~无持续风向4-5级~微风</td>\n",
       "      <td>NaN</td>\n",
       "      <td>周二</td>\n",
       "    </tr>\n",
       "    <tr>\n",
       "      <th>2017-08-29</th>\n",
       "      <td>25</td>\n",
       "      <td>16</td>\n",
       "      <td>晴</td>\n",
       "      <td>西南风1-2级</td>\n",
       "      <td>42 优</td>\n",
       "      <td>周二</td>\n",
       "    </tr>\n",
       "    <tr>\n",
       "      <th>2020-04-28</th>\n",
       "      <td>27</td>\n",
       "      <td>16</td>\n",
       "      <td>晴</td>\n",
       "      <td>西南风2级</td>\n",
       "      <td>102 轻度</td>\n",
       "      <td>周二</td>\n",
       "    </tr>\n",
       "    <tr>\n",
       "      <th>2021-09-07</th>\n",
       "      <td>27</td>\n",
       "      <td>17</td>\n",
       "      <td>晴</td>\n",
       "      <td>西南风2级</td>\n",
       "      <td>32 优</td>\n",
       "      <td>周二</td>\n",
       "    </tr>\n",
       "  </tbody>\n",
       "</table>\n",
       "</div>"
      ],
      "text/plain": [
       "             最高温  最低温 天气             风力风向  空气质量指数 weekday\n",
       "date                                                     \n",
       "2012-08-21    29   17  晴           北风3-4级     NaN      周二\n",
       "2014-09-09    29   16  晴          无持续风向微风     NaN      周二\n",
       "2015-05-19    28   17  晴  北风~无持续风向4-5级~微风     NaN      周二\n",
       "2017-08-29    25   16  晴          西南风1-2级    42 优      周二\n",
       "2020-04-28    27   16  晴            西南风2级  102 轻度      周二\n",
       "2021-09-07    27   17  晴            西南风2级    32 优      周二"
      ]
     },
     "execution_count": 24,
     "metadata": {},
     "output_type": "execute_result"
    }
   ],
   "source": [
    "# 直接写lambda表达式\n",
    "df.loc[lambda df :(df['最高温']<30)&(df['最低温']>15)&(df['天气']=='晴')&(df['weekday']=='周二')]"
   ]
  },
  {
   "cell_type": "code",
   "execution_count": 25,
   "metadata": {},
   "outputs": [
    {
     "data": {
      "text/html": [
       "<div>\n",
       "<style scoped>\n",
       "    .dataframe tbody tr th:only-of-type {\n",
       "        vertical-align: middle;\n",
       "    }\n",
       "\n",
       "    .dataframe tbody tr th {\n",
       "        vertical-align: top;\n",
       "    }\n",
       "\n",
       "    .dataframe thead th {\n",
       "        text-align: right;\n",
       "    }\n",
       "</style>\n",
       "<table border=\"1\" class=\"dataframe\">\n",
       "  <thead>\n",
       "    <tr style=\"text-align: right;\">\n",
       "      <th></th>\n",
       "      <th>最高温</th>\n",
       "      <th>最低温</th>\n",
       "      <th>天气</th>\n",
       "      <th>风力风向</th>\n",
       "      <th>空气质量指数</th>\n",
       "      <th>weekday</th>\n",
       "    </tr>\n",
       "    <tr>\n",
       "      <th>date</th>\n",
       "      <th></th>\n",
       "      <th></th>\n",
       "      <th></th>\n",
       "      <th></th>\n",
       "      <th></th>\n",
       "      <th></th>\n",
       "    </tr>\n",
       "  </thead>\n",
       "  <tbody>\n",
       "    <tr>\n",
       "      <th>2019-09-02</th>\n",
       "      <td>34</td>\n",
       "      <td>20</td>\n",
       "      <td>晴</td>\n",
       "      <td>南风2级</td>\n",
       "      <td>67 良</td>\n",
       "      <td>周一</td>\n",
       "    </tr>\n",
       "    <tr>\n",
       "      <th>2019-09-03</th>\n",
       "      <td>33</td>\n",
       "      <td>20</td>\n",
       "      <td>晴</td>\n",
       "      <td>东南风2级</td>\n",
       "      <td>88 良</td>\n",
       "      <td>周二</td>\n",
       "    </tr>\n",
       "    <tr>\n",
       "      <th>2019-09-04</th>\n",
       "      <td>32</td>\n",
       "      <td>19</td>\n",
       "      <td>晴</td>\n",
       "      <td>东南风2级</td>\n",
       "      <td>91 良</td>\n",
       "      <td>周三</td>\n",
       "    </tr>\n",
       "    <tr>\n",
       "      <th>2019-09-05</th>\n",
       "      <td>33</td>\n",
       "      <td>20</td>\n",
       "      <td>晴</td>\n",
       "      <td>东南风2级</td>\n",
       "      <td>82 良</td>\n",
       "      <td>周四</td>\n",
       "    </tr>\n",
       "    <tr>\n",
       "      <th>2019-09-06</th>\n",
       "      <td>33</td>\n",
       "      <td>20</td>\n",
       "      <td>晴</td>\n",
       "      <td>东南风1级</td>\n",
       "      <td>86 良</td>\n",
       "      <td>周五</td>\n",
       "    </tr>\n",
       "    <tr>\n",
       "      <th>2019-09-07</th>\n",
       "      <td>34</td>\n",
       "      <td>21</td>\n",
       "      <td>晴</td>\n",
       "      <td>西南风2级</td>\n",
       "      <td>90 良</td>\n",
       "      <td>周六</td>\n",
       "    </tr>\n",
       "    <tr>\n",
       "      <th>2019-09-22</th>\n",
       "      <td>27</td>\n",
       "      <td>16</td>\n",
       "      <td>晴</td>\n",
       "      <td>东南风1级</td>\n",
       "      <td>116 轻度</td>\n",
       "      <td>周日</td>\n",
       "    </tr>\n",
       "    <tr>\n",
       "      <th>2019-09-23</th>\n",
       "      <td>30</td>\n",
       "      <td>17</td>\n",
       "      <td>晴</td>\n",
       "      <td>西北风2级</td>\n",
       "      <td>58 良</td>\n",
       "      <td>周一</td>\n",
       "    </tr>\n",
       "    <tr>\n",
       "      <th>2019-09-24</th>\n",
       "      <td>31</td>\n",
       "      <td>15</td>\n",
       "      <td>晴</td>\n",
       "      <td>东北风2级</td>\n",
       "      <td>38 优</td>\n",
       "      <td>周二</td>\n",
       "    </tr>\n",
       "    <tr>\n",
       "      <th>2019-09-25</th>\n",
       "      <td>31</td>\n",
       "      <td>16</td>\n",
       "      <td>晴</td>\n",
       "      <td>西南风2级</td>\n",
       "      <td>54 良</td>\n",
       "      <td>周三</td>\n",
       "    </tr>\n",
       "    <tr>\n",
       "      <th>2019-09-26</th>\n",
       "      <td>30</td>\n",
       "      <td>15</td>\n",
       "      <td>晴</td>\n",
       "      <td>东南风1级</td>\n",
       "      <td>64 良</td>\n",
       "      <td>周四</td>\n",
       "    </tr>\n",
       "    <tr>\n",
       "      <th>2019-09-27</th>\n",
       "      <td>29</td>\n",
       "      <td>15</td>\n",
       "      <td>晴</td>\n",
       "      <td>东南风2级</td>\n",
       "      <td>79 良</td>\n",
       "      <td>周五</td>\n",
       "    </tr>\n",
       "    <tr>\n",
       "      <th>2019-09-28</th>\n",
       "      <td>30</td>\n",
       "      <td>17</td>\n",
       "      <td>晴</td>\n",
       "      <td>西南风1级</td>\n",
       "      <td>84 良</td>\n",
       "      <td>周六</td>\n",
       "    </tr>\n",
       "  </tbody>\n",
       "</table>\n",
       "</div>"
      ],
      "text/plain": [
       "             最高温  最低温 天气   风力风向  空气质量指数 weekday\n",
       "date                                           \n",
       "2019-09-02    34   20  晴   南风2级    67 良      周一\n",
       "2019-09-03    33   20  晴  东南风2级    88 良      周二\n",
       "2019-09-04    32   19  晴  东南风2级    91 良      周三\n",
       "2019-09-05    33   20  晴  东南风2级    82 良      周四\n",
       "2019-09-06    33   20  晴  东南风1级    86 良      周五\n",
       "2019-09-07    34   21  晴  西南风2级    90 良      周六\n",
       "2019-09-22    27   16  晴  东南风1级  116 轻度      周日\n",
       "2019-09-23    30   17  晴  西北风2级    58 良      周一\n",
       "2019-09-24    31   15  晴  东北风2级    38 优      周二\n",
       "2019-09-25    31   16  晴  西南风2级    54 良      周三\n",
       "2019-09-26    30   15  晴  东南风1级    64 良      周四\n",
       "2019-09-27    29   15  晴  东南风2级    79 良      周五\n",
       "2019-09-28    30   17  晴  西南风1级    84 良      周六"
      ]
     },
     "execution_count": 25,
     "metadata": {},
     "output_type": "execute_result"
    }
   ],
   "source": [
    "# 编写自己的函数，查询9月份，天气为晴的数据\n",
    "def get_sep(df):\n",
    "    return df.index.str.startswith('2019-09') & (df['天气']=='晴')\n",
    "\n",
    "df.loc[get_sep]"
   ]
  },
  {
   "cell_type": "code",
   "execution_count": 26,
   "metadata": {},
   "outputs": [
    {
     "data": {
      "text/html": [
       "<div>\n",
       "<style scoped>\n",
       "    .dataframe tbody tr th:only-of-type {\n",
       "        vertical-align: middle;\n",
       "    }\n",
       "\n",
       "    .dataframe tbody tr th {\n",
       "        vertical-align: top;\n",
       "    }\n",
       "\n",
       "    .dataframe thead th {\n",
       "        text-align: right;\n",
       "    }\n",
       "</style>\n",
       "<table border=\"1\" class=\"dataframe\">\n",
       "  <thead>\n",
       "    <tr style=\"text-align: right;\">\n",
       "      <th></th>\n",
       "      <th>最高温</th>\n",
       "      <th>最低温</th>\n",
       "      <th>天气</th>\n",
       "      <th>风力风向</th>\n",
       "      <th>空气质量指数</th>\n",
       "      <th>weekday</th>\n",
       "    </tr>\n",
       "    <tr>\n",
       "      <th>date</th>\n",
       "      <th></th>\n",
       "      <th></th>\n",
       "      <th></th>\n",
       "      <th></th>\n",
       "      <th></th>\n",
       "      <th></th>\n",
       "    </tr>\n",
       "  </thead>\n",
       "  <tbody>\n",
       "    <tr>\n",
       "      <th>2011-01-01</th>\n",
       "      <td>-2</td>\n",
       "      <td>-7</td>\n",
       "      <td>多云~阴</td>\n",
       "      <td>无持续风向微风</td>\n",
       "      <td>NaN</td>\n",
       "      <td>周六</td>\n",
       "    </tr>\n",
       "    <tr>\n",
       "      <th>2011-01-02</th>\n",
       "      <td>-2</td>\n",
       "      <td>-7</td>\n",
       "      <td>多云</td>\n",
       "      <td>无持续风向微风</td>\n",
       "      <td>NaN</td>\n",
       "      <td>周日</td>\n",
       "    </tr>\n",
       "    <tr>\n",
       "      <th>2011-01-03</th>\n",
       "      <td>-2</td>\n",
       "      <td>-6</td>\n",
       "      <td>多云~阴</td>\n",
       "      <td>西北风~北风3-4级~4-5级</td>\n",
       "      <td>NaN</td>\n",
       "      <td>周一</td>\n",
       "    </tr>\n",
       "    <tr>\n",
       "      <th>2011-01-04</th>\n",
       "      <td>-2</td>\n",
       "      <td>-9</td>\n",
       "      <td>晴</td>\n",
       "      <td>北风5-6级</td>\n",
       "      <td>NaN</td>\n",
       "      <td>周二</td>\n",
       "    </tr>\n",
       "    <tr>\n",
       "      <th>2011-01-05</th>\n",
       "      <td>-2</td>\n",
       "      <td>-10</td>\n",
       "      <td>晴</td>\n",
       "      <td>北风~无持续风向3-4级~微风</td>\n",
       "      <td>NaN</td>\n",
       "      <td>周三</td>\n",
       "    </tr>\n",
       "  </tbody>\n",
       "</table>\n",
       "</div>"
      ],
      "text/plain": [
       "             最高温  最低温    天气             风力风向 空气质量指数 weekday\n",
       "date                                                       \n",
       "2011-01-01    -2   -7  多云~阴          无持续风向微风    NaN      周六\n",
       "2011-01-02    -2   -7    多云          无持续风向微风    NaN      周日\n",
       "2011-01-03    -2   -6  多云~阴  西北风~北风3-4级~4-5级    NaN      周一\n",
       "2011-01-04    -2   -9     晴           北风5-6级    NaN      周二\n",
       "2011-01-05    -2  -10     晴  北风~无持续风向3-4级~微风    NaN      周三"
      ]
     },
     "execution_count": 26,
     "metadata": {},
     "output_type": "execute_result"
    }
   ],
   "source": [
    "df.head()"
   ]
  },
  {
   "cell_type": "code",
   "execution_count": 27,
   "metadata": {},
   "outputs": [],
   "source": [
    "df.to_excel('weather.xlsx',index=False)"
   ]
  }
 ],
 "metadata": {
  "kernelspec": {
   "display_name": "Python 3",
   "language": "python",
   "name": "python3"
  },
  "language_info": {
   "codemirror_mode": {
    "name": "ipython",
    "version": 3
   },
   "file_extension": ".py",
   "mimetype": "text/x-python",
   "name": "python",
   "nbconvert_exporter": "python",
   "pygments_lexer": "ipython3",
   "version": "3.10.8"
  },
  "orig_nbformat": 4
 },
 "nbformat": 4,
 "nbformat_minor": 2
}
