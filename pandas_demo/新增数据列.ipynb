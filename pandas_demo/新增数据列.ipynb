{
 "cells": [
  {
   "attachments": {},
   "cell_type": "markdown",
   "metadata": {},
   "source": [
    "在进行数据分析时，经常需要根据一定条件创建新的数据列，然后及逆行进一步分析\n",
    "1. 直接赋值\n",
    "2. df.apply方法\n",
    "3. df.assign方法\n",
    "4. 按条件选择分组分别赋值"
   ]
  },
  {
   "cell_type": "code",
   "execution_count": 1,
   "metadata": {},
   "outputs": [
    {
     "data": {
      "text/html": [
       "<div>\n",
       "<style scoped>\n",
       "    .dataframe tbody tr th:only-of-type {\n",
       "        vertical-align: middle;\n",
       "    }\n",
       "\n",
       "    .dataframe tbody tr th {\n",
       "        vertical-align: top;\n",
       "    }\n",
       "\n",
       "    .dataframe thead th {\n",
       "        text-align: right;\n",
       "    }\n",
       "</style>\n",
       "<table border=\"1\" class=\"dataframe\">\n",
       "  <thead>\n",
       "    <tr style=\"text-align: right;\">\n",
       "      <th></th>\n",
       "      <th>日期</th>\n",
       "      <th>最高温</th>\n",
       "      <th>最低温</th>\n",
       "      <th>天气</th>\n",
       "      <th>风力风向</th>\n",
       "      <th>空气质量指数</th>\n",
       "    </tr>\n",
       "  </thead>\n",
       "  <tbody>\n",
       "    <tr>\n",
       "      <th>0</th>\n",
       "      <td>2011-01-01 周六</td>\n",
       "      <td>-2°</td>\n",
       "      <td>-7°</td>\n",
       "      <td>多云~阴</td>\n",
       "      <td>无持续风向微风</td>\n",
       "      <td>NaN</td>\n",
       "    </tr>\n",
       "    <tr>\n",
       "      <th>1</th>\n",
       "      <td>2011-01-02 周日</td>\n",
       "      <td>-2°</td>\n",
       "      <td>-7°</td>\n",
       "      <td>多云</td>\n",
       "      <td>无持续风向微风</td>\n",
       "      <td>NaN</td>\n",
       "    </tr>\n",
       "    <tr>\n",
       "      <th>2</th>\n",
       "      <td>2011-01-03 周一</td>\n",
       "      <td>-2°</td>\n",
       "      <td>-6°</td>\n",
       "      <td>多云~阴</td>\n",
       "      <td>西北风~北风3-4级~4-5级</td>\n",
       "      <td>NaN</td>\n",
       "    </tr>\n",
       "    <tr>\n",
       "      <th>3</th>\n",
       "      <td>2011-01-04 周二</td>\n",
       "      <td>-2°</td>\n",
       "      <td>-9°</td>\n",
       "      <td>晴</td>\n",
       "      <td>北风5-6级</td>\n",
       "      <td>NaN</td>\n",
       "    </tr>\n",
       "    <tr>\n",
       "      <th>4</th>\n",
       "      <td>2011-01-05 周三</td>\n",
       "      <td>-2°</td>\n",
       "      <td>-10°</td>\n",
       "      <td>晴</td>\n",
       "      <td>北风~无持续风向3-4级~微风</td>\n",
       "      <td>NaN</td>\n",
       "    </tr>\n",
       "  </tbody>\n",
       "</table>\n",
       "</div>"
      ],
      "text/plain": [
       "              日期  最高温   最低温    天气             风力风向 空气质量指数\n",
       "0  2011-01-01 周六  -2°   -7°  多云~阴          无持续风向微风    NaN\n",
       "1  2011-01-02 周日  -2°   -7°    多云          无持续风向微风    NaN\n",
       "2  2011-01-03 周一  -2°   -6°  多云~阴  西北风~北风3-4级~4-5级    NaN\n",
       "3  2011-01-04 周二  -2°   -9°     晴           北风5-6级    NaN\n",
       "4  2011-01-05 周三  -2°  -10°     晴  北风~无持续风向3-4级~微风    NaN"
      ]
     },
     "execution_count": 1,
     "metadata": {},
     "output_type": "execute_result"
    }
   ],
   "source": [
    "import pandas as pd\n",
    "df=pd.read_excel(\"./weater_beijing.xlsx\")\n",
    "df.head()"
   ]
  },
  {
   "cell_type": "code",
   "execution_count": 15,
   "metadata": {},
   "outputs": [],
   "source": [
    "# 替换温度的后缀°\n",
    "df.loc[:,'最低温']=df['最低温'].str.replace(\"°\",\"\")\n",
    "df.loc[:,'最高温']=df['最高温'].str.replace(\"°\",\"\")"
   ]
  },
  {
   "cell_type": "code",
   "execution_count": 29,
   "metadata": {},
   "outputs": [],
   "source": [
    "df.loc[:,'最低温'].fillna('0',inplace=True)"
   ]
  },
  {
   "cell_type": "code",
   "execution_count": 32,
   "metadata": {},
   "outputs": [
    {
     "data": {
      "text/html": [
       "<div>\n",
       "<style scoped>\n",
       "    .dataframe tbody tr th:only-of-type {\n",
       "        vertical-align: middle;\n",
       "    }\n",
       "\n",
       "    .dataframe tbody tr th {\n",
       "        vertical-align: top;\n",
       "    }\n",
       "\n",
       "    .dataframe thead th {\n",
       "        text-align: right;\n",
       "    }\n",
       "</style>\n",
       "<table border=\"1\" class=\"dataframe\">\n",
       "  <thead>\n",
       "    <tr style=\"text-align: right;\">\n",
       "      <th></th>\n",
       "      <th>日期</th>\n",
       "      <th>最高温</th>\n",
       "      <th>最低温</th>\n",
       "      <th>天气</th>\n",
       "      <th>风力风向</th>\n",
       "      <th>空气质量指数</th>\n",
       "    </tr>\n",
       "  </thead>\n",
       "  <tbody>\n",
       "    <tr>\n",
       "      <th>455</th>\n",
       "      <td>2012-04-11 周三</td>\n",
       "      <td>9</td>\n",
       "      <td></td>\n",
       "      <td>多云~</td>\n",
       "      <td>无持续风向~微风~</td>\n",
       "      <td>NaN</td>\n",
       "    </tr>\n",
       "  </tbody>\n",
       "</table>\n",
       "</div>"
      ],
      "text/plain": [
       "                日期 最高温 最低温   天气       风力风向 空气质量指数\n",
       "455  2012-04-11 周三   9      多云~  无持续风向~微风~    NaN"
      ]
     },
     "execution_count": 32,
     "metadata": {},
     "output_type": "execute_result"
    }
   ],
   "source": [
    "df.loc[df['最低温']=='']"
   ]
  },
  {
   "cell_type": "code",
   "execution_count": 34,
   "metadata": {},
   "outputs": [],
   "source": [
    "# 将最低温中''替换成0\n",
    "df.loc[:,'最低温']=df['最低温'].replace('','0')"
   ]
  },
  {
   "cell_type": "code",
   "execution_count": 36,
   "metadata": {},
   "outputs": [
    {
     "name": "stderr",
     "output_type": "stream",
     "text": [
      "C:\\Users\\JDQ\\AppData\\Local\\Temp\\ipykernel_17304\\77100508.py:2: DeprecationWarning: In a future version, `df.iloc[:, i] = newvals` will attempt to set the values inplace instead of always setting a new array. To retain the old behavior, use either `df[df.columns[i]] = newvals` or, if columns are non-unique, `df.isetitem(i, newvals)`\n",
      "  df.loc[:,'最高温']=df.loc[:,'最高温'].astype('int32')\n"
     ]
    }
   ],
   "source": [
    "# 将最高温和最低温列的obj类型转换成int型\n",
    "df.loc[:,'最低温']=df.loc[:,'最低温'].astype('int32')\n",
    "df.loc[:,'最高温']=df.loc[:,'最高温'].astype('int32')"
   ]
  },
  {
   "cell_type": "code",
   "execution_count": 30,
   "metadata": {},
   "outputs": [
    {
     "data": {
      "text/html": [
       "<div>\n",
       "<style scoped>\n",
       "    .dataframe tbody tr th:only-of-type {\n",
       "        vertical-align: middle;\n",
       "    }\n",
       "\n",
       "    .dataframe tbody tr th {\n",
       "        vertical-align: top;\n",
       "    }\n",
       "\n",
       "    .dataframe thead th {\n",
       "        text-align: right;\n",
       "    }\n",
       "</style>\n",
       "<table border=\"1\" class=\"dataframe\">\n",
       "  <thead>\n",
       "    <tr style=\"text-align: right;\">\n",
       "      <th></th>\n",
       "      <th>日期</th>\n",
       "      <th>最高温</th>\n",
       "      <th>最低温</th>\n",
       "      <th>天气</th>\n",
       "      <th>风力风向</th>\n",
       "      <th>空气质量指数</th>\n",
       "    </tr>\n",
       "  </thead>\n",
       "  <tbody>\n",
       "    <tr>\n",
       "      <th>455</th>\n",
       "      <td>2012-04-11 周三</td>\n",
       "      <td>9</td>\n",
       "      <td></td>\n",
       "      <td>多云~</td>\n",
       "      <td>无持续风向~微风~</td>\n",
       "      <td>NaN</td>\n",
       "    </tr>\n",
       "  </tbody>\n",
       "</table>\n",
       "</div>"
      ],
      "text/plain": [
       "                日期 最高温 最低温   天气       风力风向 空气质量指数\n",
       "455  2012-04-11 周三   9      多云~  无持续风向~微风~    NaN"
      ]
     },
     "execution_count": 30,
     "metadata": {},
     "output_type": "execute_result"
    }
   ],
   "source": [
    "df.loc[df['日期']=='2012-04-11 周三']"
   ]
  },
  {
   "attachments": {},
   "cell_type": "markdown",
   "metadata": {},
   "source": [
    "1. 直接赋值"
   ]
  },
  {
   "attachments": {},
   "cell_type": "markdown",
   "metadata": {},
   "source": [
    "实例：计算温差"
   ]
  },
  {
   "cell_type": "code",
   "execution_count": 42,
   "metadata": {},
   "outputs": [
    {
     "data": {
      "text/plain": [
       "日期        object\n",
       "最高温        int32\n",
       "最低温        int32\n",
       "天气        object\n",
       "风力风向      object\n",
       "空气质量指数    object\n",
       "dtype: object"
      ]
     },
     "execution_count": 42,
     "metadata": {},
     "output_type": "execute_result"
    }
   ],
   "source": [
    "df.dtypes"
   ]
  },
  {
   "cell_type": "code",
   "execution_count": 43,
   "metadata": {},
   "outputs": [],
   "source": [
    "df['wencha']=df['最高温']-df['最低温']"
   ]
  },
  {
   "cell_type": "code",
   "execution_count": 46,
   "metadata": {},
   "outputs": [
    {
     "data": {
      "text/html": [
       "<div>\n",
       "<style scoped>\n",
       "    .dataframe tbody tr th:only-of-type {\n",
       "        vertical-align: middle;\n",
       "    }\n",
       "\n",
       "    .dataframe tbody tr th {\n",
       "        vertical-align: top;\n",
       "    }\n",
       "\n",
       "    .dataframe thead th {\n",
       "        text-align: right;\n",
       "    }\n",
       "</style>\n",
       "<table border=\"1\" class=\"dataframe\">\n",
       "  <thead>\n",
       "    <tr style=\"text-align: right;\">\n",
       "      <th></th>\n",
       "      <th>日期</th>\n",
       "      <th>最高温</th>\n",
       "      <th>最低温</th>\n",
       "      <th>天气</th>\n",
       "      <th>风力风向</th>\n",
       "      <th>空气质量指数</th>\n",
       "      <th>wencha</th>\n",
       "    </tr>\n",
       "  </thead>\n",
       "  <tbody>\n",
       "    <tr>\n",
       "      <th>0</th>\n",
       "      <td>2011-01-01 周六</td>\n",
       "      <td>-2</td>\n",
       "      <td>-7</td>\n",
       "      <td>多云~阴</td>\n",
       "      <td>无持续风向微风</td>\n",
       "      <td>NaN</td>\n",
       "      <td>5</td>\n",
       "    </tr>\n",
       "    <tr>\n",
       "      <th>1</th>\n",
       "      <td>2011-01-02 周日</td>\n",
       "      <td>-2</td>\n",
       "      <td>-7</td>\n",
       "      <td>多云</td>\n",
       "      <td>无持续风向微风</td>\n",
       "      <td>NaN</td>\n",
       "      <td>5</td>\n",
       "    </tr>\n",
       "    <tr>\n",
       "      <th>2</th>\n",
       "      <td>2011-01-03 周一</td>\n",
       "      <td>-2</td>\n",
       "      <td>-6</td>\n",
       "      <td>多云~阴</td>\n",
       "      <td>西北风~北风3-4级~4-5级</td>\n",
       "      <td>NaN</td>\n",
       "      <td>4</td>\n",
       "    </tr>\n",
       "    <tr>\n",
       "      <th>3</th>\n",
       "      <td>2011-01-04 周二</td>\n",
       "      <td>-2</td>\n",
       "      <td>-9</td>\n",
       "      <td>晴</td>\n",
       "      <td>北风5-6级</td>\n",
       "      <td>NaN</td>\n",
       "      <td>7</td>\n",
       "    </tr>\n",
       "    <tr>\n",
       "      <th>4</th>\n",
       "      <td>2011-01-05 周三</td>\n",
       "      <td>-2</td>\n",
       "      <td>-10</td>\n",
       "      <td>晴</td>\n",
       "      <td>北风~无持续风向3-4级~微风</td>\n",
       "      <td>NaN</td>\n",
       "      <td>8</td>\n",
       "    </tr>\n",
       "  </tbody>\n",
       "</table>\n",
       "</div>"
      ],
      "text/plain": [
       "              日期  最高温  最低温    天气             风力风向 空气质量指数  wencha\n",
       "0  2011-01-01 周六   -2   -7  多云~阴          无持续风向微风    NaN       5\n",
       "1  2011-01-02 周日   -2   -7    多云          无持续风向微风    NaN       5\n",
       "2  2011-01-03 周一   -2   -6  多云~阴  西北风~北风3-4级~4-5级    NaN       4\n",
       "3  2011-01-04 周二   -2   -9     晴           北风5-6级    NaN       7\n",
       "4  2011-01-05 周三   -2  -10     晴  北风~无持续风向3-4级~微风    NaN       8"
      ]
     },
     "execution_count": 46,
     "metadata": {},
     "output_type": "execute_result"
    }
   ],
   "source": [
    "df.head()"
   ]
  },
  {
   "attachments": {},
   "cell_type": "markdown",
   "metadata": {},
   "source": [
    "2. df.apply方法\n",
    "DataFrame.apply(func, axis=0, raw=False, result_type=None, args=(), **kwargs)[source]\n",
    "Apply a function along an axis of the DataFrame.\n",
    "\n",
    "Objects passed to the function are Series objects whose index is either the DataFrame’s index (axis=0) or the DataFrame’s columns (axis=1). By default (result_type=None), the final return type is inferred from the return type of the applied function. Otherwise, it depends on the result_type argument.\n",
    "\n",
    "实例：添加一列温度类型\n",
    "    1. 如果最高温度大于33度就是高温\n",
    "    2. 如果小于-10度就是低温\n",
    "    3. 否则就是常温"
   ]
  },
  {
   "cell_type": "code",
   "execution_count": 49,
   "metadata": {},
   "outputs": [],
   "source": [
    "def get_wendu_type(x):\n",
    "    if x['最高温']>33:\n",
    "        return '高温'\n",
    "    if x['最低温']<-10:\n",
    "        return '低温'\n",
    "    return '常温'\n",
    "\n",
    "# 这里需要设置axis==1，这是series的index是columns\n",
    "df.loc[:,'wendu_type']=df.apply(get_wendu_type,axis=1)"
   ]
  },
  {
   "cell_type": "code",
   "execution_count": 50,
   "metadata": {},
   "outputs": [
    {
     "data": {
      "text/plain": [
       "常温    3730\n",
       "高温     231\n",
       "低温      45\n",
       "Name: wendu_type, dtype: int64"
      ]
     },
     "execution_count": 50,
     "metadata": {},
     "output_type": "execute_result"
    }
   ],
   "source": [
    "# 产看温度类型的计数\n",
    "df['wendu_type'].value_counts()"
   ]
  },
  {
   "attachments": {},
   "cell_type": "markdown",
   "metadata": {},
   "source": [
    "3. df.assign方法\n",
    "DataFrame.assign(**kwargs)[source]\n",
    "Assign new columns to a DataFrame.\n",
    "\n",
    "Returns a new object with all original columns in addition to new ones. Existing columns that are re-assigned will be overwritten.\n",
    "\n",
    "实例：将温度从摄氏度变为华氏度"
   ]
  },
  {
   "cell_type": "code",
   "execution_count": 51,
   "metadata": {},
   "outputs": [
    {
     "data": {
      "text/html": [
       "<div>\n",
       "<style scoped>\n",
       "    .dataframe tbody tr th:only-of-type {\n",
       "        vertical-align: middle;\n",
       "    }\n",
       "\n",
       "    .dataframe tbody tr th {\n",
       "        vertical-align: top;\n",
       "    }\n",
       "\n",
       "    .dataframe thead th {\n",
       "        text-align: right;\n",
       "    }\n",
       "</style>\n",
       "<table border=\"1\" class=\"dataframe\">\n",
       "  <thead>\n",
       "    <tr style=\"text-align: right;\">\n",
       "      <th></th>\n",
       "      <th>日期</th>\n",
       "      <th>最高温</th>\n",
       "      <th>最低温</th>\n",
       "      <th>天气</th>\n",
       "      <th>风力风向</th>\n",
       "      <th>空气质量指数</th>\n",
       "      <th>wencha</th>\n",
       "      <th>wendu_type</th>\n",
       "      <th>华氏度最高温</th>\n",
       "      <th>华氏度最低温</th>\n",
       "    </tr>\n",
       "  </thead>\n",
       "  <tbody>\n",
       "    <tr>\n",
       "      <th>0</th>\n",
       "      <td>2011-01-01 周六</td>\n",
       "      <td>-2</td>\n",
       "      <td>-7</td>\n",
       "      <td>多云~阴</td>\n",
       "      <td>无持续风向微风</td>\n",
       "      <td>NaN</td>\n",
       "      <td>5</td>\n",
       "      <td>常温</td>\n",
       "      <td>28.4</td>\n",
       "      <td>19.4</td>\n",
       "    </tr>\n",
       "    <tr>\n",
       "      <th>1</th>\n",
       "      <td>2011-01-02 周日</td>\n",
       "      <td>-2</td>\n",
       "      <td>-7</td>\n",
       "      <td>多云</td>\n",
       "      <td>无持续风向微风</td>\n",
       "      <td>NaN</td>\n",
       "      <td>5</td>\n",
       "      <td>常温</td>\n",
       "      <td>28.4</td>\n",
       "      <td>19.4</td>\n",
       "    </tr>\n",
       "    <tr>\n",
       "      <th>2</th>\n",
       "      <td>2011-01-03 周一</td>\n",
       "      <td>-2</td>\n",
       "      <td>-6</td>\n",
       "      <td>多云~阴</td>\n",
       "      <td>西北风~北风3-4级~4-5级</td>\n",
       "      <td>NaN</td>\n",
       "      <td>4</td>\n",
       "      <td>常温</td>\n",
       "      <td>28.4</td>\n",
       "      <td>21.2</td>\n",
       "    </tr>\n",
       "    <tr>\n",
       "      <th>3</th>\n",
       "      <td>2011-01-04 周二</td>\n",
       "      <td>-2</td>\n",
       "      <td>-9</td>\n",
       "      <td>晴</td>\n",
       "      <td>北风5-6级</td>\n",
       "      <td>NaN</td>\n",
       "      <td>7</td>\n",
       "      <td>常温</td>\n",
       "      <td>28.4</td>\n",
       "      <td>15.8</td>\n",
       "    </tr>\n",
       "    <tr>\n",
       "      <th>4</th>\n",
       "      <td>2011-01-05 周三</td>\n",
       "      <td>-2</td>\n",
       "      <td>-10</td>\n",
       "      <td>晴</td>\n",
       "      <td>北风~无持续风向3-4级~微风</td>\n",
       "      <td>NaN</td>\n",
       "      <td>8</td>\n",
       "      <td>常温</td>\n",
       "      <td>28.4</td>\n",
       "      <td>14.0</td>\n",
       "    </tr>\n",
       "    <tr>\n",
       "      <th>...</th>\n",
       "      <td>...</td>\n",
       "      <td>...</td>\n",
       "      <td>...</td>\n",
       "      <td>...</td>\n",
       "      <td>...</td>\n",
       "      <td>...</td>\n",
       "      <td>...</td>\n",
       "      <td>...</td>\n",
       "      <td>...</td>\n",
       "      <td>...</td>\n",
       "    </tr>\n",
       "    <tr>\n",
       "      <th>4001</th>\n",
       "      <td>2021-12-27 周一</td>\n",
       "      <td>6</td>\n",
       "      <td>-8</td>\n",
       "      <td>晴</td>\n",
       "      <td>西北风1级</td>\n",
       "      <td>56 良</td>\n",
       "      <td>14</td>\n",
       "      <td>常温</td>\n",
       "      <td>42.8</td>\n",
       "      <td>17.6</td>\n",
       "    </tr>\n",
       "    <tr>\n",
       "      <th>4002</th>\n",
       "      <td>2021-12-28 周二</td>\n",
       "      <td>6</td>\n",
       "      <td>-5</td>\n",
       "      <td>多云~晴</td>\n",
       "      <td>西北风1级</td>\n",
       "      <td>64 良</td>\n",
       "      <td>11</td>\n",
       "      <td>常温</td>\n",
       "      <td>42.8</td>\n",
       "      <td>23.0</td>\n",
       "    </tr>\n",
       "    <tr>\n",
       "      <th>4003</th>\n",
       "      <td>2021-12-29 周三</td>\n",
       "      <td>5</td>\n",
       "      <td>-5</td>\n",
       "      <td>晴</td>\n",
       "      <td>西北风3级</td>\n",
       "      <td>43 优</td>\n",
       "      <td>10</td>\n",
       "      <td>常温</td>\n",
       "      <td>41.0</td>\n",
       "      <td>23.0</td>\n",
       "    </tr>\n",
       "    <tr>\n",
       "      <th>4004</th>\n",
       "      <td>2021-12-30 周四</td>\n",
       "      <td>6</td>\n",
       "      <td>-7</td>\n",
       "      <td>晴</td>\n",
       "      <td>西北风3级</td>\n",
       "      <td>38 优</td>\n",
       "      <td>13</td>\n",
       "      <td>常温</td>\n",
       "      <td>42.8</td>\n",
       "      <td>19.4</td>\n",
       "    </tr>\n",
       "    <tr>\n",
       "      <th>4005</th>\n",
       "      <td>2021-12-31 周五</td>\n",
       "      <td>5</td>\n",
       "      <td>-7</td>\n",
       "      <td>晴</td>\n",
       "      <td>东北风1级</td>\n",
       "      <td>44 优</td>\n",
       "      <td>12</td>\n",
       "      <td>常温</td>\n",
       "      <td>41.0</td>\n",
       "      <td>19.4</td>\n",
       "    </tr>\n",
       "  </tbody>\n",
       "</table>\n",
       "<p>4006 rows × 10 columns</p>\n",
       "</div>"
      ],
      "text/plain": [
       "                 日期  最高温  最低温    天气             风力风向 空气质量指数  wencha  \\\n",
       "0     2011-01-01 周六   -2   -7  多云~阴          无持续风向微风    NaN       5   \n",
       "1     2011-01-02 周日   -2   -7    多云          无持续风向微风    NaN       5   \n",
       "2     2011-01-03 周一   -2   -6  多云~阴  西北风~北风3-4级~4-5级    NaN       4   \n",
       "3     2011-01-04 周二   -2   -9     晴           北风5-6级    NaN       7   \n",
       "4     2011-01-05 周三   -2  -10     晴  北风~无持续风向3-4级~微风    NaN       8   \n",
       "...             ...  ...  ...   ...              ...    ...     ...   \n",
       "4001  2021-12-27 周一    6   -8     晴            西北风1级   56 良      14   \n",
       "4002  2021-12-28 周二    6   -5  多云~晴            西北风1级   64 良      11   \n",
       "4003  2021-12-29 周三    5   -5     晴            西北风3级   43 优      10   \n",
       "4004  2021-12-30 周四    6   -7     晴            西北风3级   38 优      13   \n",
       "4005  2021-12-31 周五    5   -7     晴            东北风1级   44 优      12   \n",
       "\n",
       "     wendu_type  华氏度最高温  华氏度最低温  \n",
       "0            常温    28.4    19.4  \n",
       "1            常温    28.4    19.4  \n",
       "2            常温    28.4    21.2  \n",
       "3            常温    28.4    15.8  \n",
       "4            常温    28.4    14.0  \n",
       "...         ...     ...     ...  \n",
       "4001         常温    42.8    17.6  \n",
       "4002         常温    42.8    23.0  \n",
       "4003         常温    41.0    23.0  \n",
       "4004         常温    42.8    19.4  \n",
       "4005         常温    41.0    19.4  \n",
       "\n",
       "[4006 rows x 10 columns]"
      ]
     },
     "execution_count": 51,
     "metadata": {},
     "output_type": "execute_result"
    }
   ],
   "source": [
    "# 可以同时添加多个新的列\n",
    "df.assign(\n",
    "    华氏度最高温=lambda x:x['最高温']*9/5+32,\n",
    "    华氏度最低温=lambda x:x['最低温']*9/5+32,\n",
    ")"
   ]
  },
  {
   "attachments": {},
   "cell_type": "markdown",
   "metadata": {},
   "source": [
    "4. 按条件选择分组分别赋值\n",
    "按条件先选择数据，然后对这部分数据赋值新列\n",
    "实例：高低温差大于10度，则认为温差大"
   ]
  },
  {
   "cell_type": "code",
   "execution_count": 54,
   "metadata": {},
   "outputs": [],
   "source": [
    "# 先创建空列（这是第一种创建新列的方法）\n",
    "df['wencha_type']=''\n",
    "df.loc[df['最高温']-df['最低温']>10,'wencha_type']='温差大'\n",
    "df.loc[df['最高温']-df['最低温']<=10,'wencha_type']='温差正常'"
   ]
  },
  {
   "cell_type": "code",
   "execution_count": 55,
   "metadata": {},
   "outputs": [
    {
     "data": {
      "text/plain": [
       "温差正常    2099\n",
       "温差大     1907\n",
       "Name: wencha_type, dtype: int64"
      ]
     },
     "execution_count": 55,
     "metadata": {},
     "output_type": "execute_result"
    }
   ],
   "source": [
    "df['wencha_type'].value_counts()"
   ]
  }
 ],
 "metadata": {
  "kernelspec": {
   "display_name": "Python 3",
   "language": "python",
   "name": "python3"
  },
  "language_info": {
   "codemirror_mode": {
    "name": "ipython",
    "version": 3
   },
   "file_extension": ".py",
   "mimetype": "text/x-python",
   "name": "python",
   "nbconvert_exporter": "python",
   "pygments_lexer": "ipython3",
   "version": "3.10.8"
  },
  "orig_nbformat": 4
 },
 "nbformat": 4,
 "nbformat_minor": 2
}
