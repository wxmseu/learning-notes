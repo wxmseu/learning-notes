{
 "cells": [
  {
   "attachments": {},
   "cell_type": "markdown",
   "metadata": {},
   "source": [
    "pandas的索引index的用途\n",
    "把数据存储与普通的columns列也能用于数据查询，那使用index有什么好处？\n",
    "\n",
    "# index的用途总结：\n",
    "1. 更方便的数据查询\n",
    "2. 使用index可以获得性能提升\n",
    "3. 自动的数据对其功能\n",
    "4. 更多更强大的数据结构支持"
   ]
  },
  {
   "cell_type": "code",
   "execution_count": 3,
   "metadata": {},
   "outputs": [
    {
     "data": {
      "text/html": [
       "<div>\n",
       "<style scoped>\n",
       "    .dataframe tbody tr th:only-of-type {\n",
       "        vertical-align: middle;\n",
       "    }\n",
       "\n",
       "    .dataframe tbody tr th {\n",
       "        vertical-align: top;\n",
       "    }\n",
       "\n",
       "    .dataframe thead th {\n",
       "        text-align: right;\n",
       "    }\n",
       "</style>\n",
       "<table border=\"1\" class=\"dataframe\">\n",
       "  <thead>\n",
       "    <tr style=\"text-align: right;\">\n",
       "      <th></th>\n",
       "      <th>Unnamed: 0</th>\n",
       "      <th>id</th>\n",
       "      <th>title</th>\n",
       "      <th>release_date</th>\n",
       "      <th>overview</th>\n",
       "      <th>popularity</th>\n",
       "      <th>vote_average</th>\n",
       "      <th>vote_count</th>\n",
       "      <th>video</th>\n",
       "    </tr>\n",
       "  </thead>\n",
       "  <tbody>\n",
       "    <tr>\n",
       "      <th>0</th>\n",
       "      <td>0</td>\n",
       "      <td>19404</td>\n",
       "      <td>Dilwale Dulhania Le Jayenge</td>\n",
       "      <td>1995-10-20</td>\n",
       "      <td>Raj is a rich, carefree, happy-go-lucky second...</td>\n",
       "      <td>25.884</td>\n",
       "      <td>8.7</td>\n",
       "      <td>3304</td>\n",
       "      <td>False</td>\n",
       "    </tr>\n",
       "    <tr>\n",
       "      <th>1</th>\n",
       "      <td>1</td>\n",
       "      <td>278</td>\n",
       "      <td>The Shawshank Redemption</td>\n",
       "      <td>1994-09-23</td>\n",
       "      <td>Framed in the 1940s for the double murder of h...</td>\n",
       "      <td>60.110</td>\n",
       "      <td>8.7</td>\n",
       "      <td>20369</td>\n",
       "      <td>False</td>\n",
       "    </tr>\n",
       "    <tr>\n",
       "      <th>2</th>\n",
       "      <td>2</td>\n",
       "      <td>238</td>\n",
       "      <td>The Godfather</td>\n",
       "      <td>1972-03-14</td>\n",
       "      <td>Spanning the years 1945 to 1955, a chronicle o...</td>\n",
       "      <td>62.784</td>\n",
       "      <td>8.7</td>\n",
       "      <td>15219</td>\n",
       "      <td>False</td>\n",
       "    </tr>\n",
       "    <tr>\n",
       "      <th>3</th>\n",
       "      <td>3</td>\n",
       "      <td>724089</td>\n",
       "      <td>Gabriel's Inferno Part II</td>\n",
       "      <td>2020-07-31</td>\n",
       "      <td>Professor Gabriel Emerson finally learns the t...</td>\n",
       "      <td>28.316</td>\n",
       "      <td>8.6</td>\n",
       "      <td>1360</td>\n",
       "      <td>False</td>\n",
       "    </tr>\n",
       "    <tr>\n",
       "      <th>4</th>\n",
       "      <td>4</td>\n",
       "      <td>424</td>\n",
       "      <td>Schindler's List</td>\n",
       "      <td>1993-11-30</td>\n",
       "      <td>The true story of how businessman Oskar Schind...</td>\n",
       "      <td>38.661</td>\n",
       "      <td>8.6</td>\n",
       "      <td>12158</td>\n",
       "      <td>False</td>\n",
       "    </tr>\n",
       "  </tbody>\n",
       "</table>\n",
       "</div>"
      ],
      "text/plain": [
       "   Unnamed: 0      id                        title release_date  \\\n",
       "0           0   19404  Dilwale Dulhania Le Jayenge   1995-10-20   \n",
       "1           1     278     The Shawshank Redemption   1994-09-23   \n",
       "2           2     238                The Godfather   1972-03-14   \n",
       "3           3  724089    Gabriel's Inferno Part II   2020-07-31   \n",
       "4           4     424             Schindler's List   1993-11-30   \n",
       "\n",
       "                                            overview  popularity  \\\n",
       "0  Raj is a rich, carefree, happy-go-lucky second...      25.884   \n",
       "1  Framed in the 1940s for the double murder of h...      60.110   \n",
       "2  Spanning the years 1945 to 1955, a chronicle o...      62.784   \n",
       "3  Professor Gabriel Emerson finally learns the t...      28.316   \n",
       "4  The true story of how businessman Oskar Schind...      38.661   \n",
       "\n",
       "   vote_average  vote_count  video  \n",
       "0           8.7        3304  False  \n",
       "1           8.7       20369  False  \n",
       "2           8.7       15219  False  \n",
       "3           8.6        1360  False  \n",
       "4           8.6       12158  False  "
      ]
     },
     "execution_count": 3,
     "metadata": {},
     "output_type": "execute_result"
    }
   ],
   "source": [
    "import pandas as pd\n",
    "df=pd.read_csv('Movie-Dataset-Latest.csv')\n",
    "df.head()"
   ]
  },
  {
   "cell_type": "code",
   "execution_count": 4,
   "metadata": {},
   "outputs": [
    {
     "data": {
      "text/plain": [
       "Unnamed: 0        int64\n",
       "id                int64\n",
       "title            object\n",
       "release_date     object\n",
       "overview         object\n",
       "popularity      float64\n",
       "vote_average    float64\n",
       "vote_count        int64\n",
       "video              bool\n",
       "dtype: object"
      ]
     },
     "execution_count": 4,
     "metadata": {},
     "output_type": "execute_result"
    }
   ],
   "source": [
    "df.dtypes"
   ]
  },
  {
   "attachments": {},
   "cell_type": "markdown",
   "metadata": {},
   "source": [
    "1. 使用index查询数据"
   ]
  },
  {
   "cell_type": "code",
   "execution_count": 5,
   "metadata": {},
   "outputs": [],
   "source": [
    "# drop=false，让索引列还保持在column\n",
    "df.set_index('id',inplace=True,drop=False)"
   ]
  },
  {
   "cell_type": "code",
   "execution_count": 6,
   "metadata": {},
   "outputs": [
    {
     "data": {
      "text/html": [
       "<div>\n",
       "<style scoped>\n",
       "    .dataframe tbody tr th:only-of-type {\n",
       "        vertical-align: middle;\n",
       "    }\n",
       "\n",
       "    .dataframe tbody tr th {\n",
       "        vertical-align: top;\n",
       "    }\n",
       "\n",
       "    .dataframe thead th {\n",
       "        text-align: right;\n",
       "    }\n",
       "</style>\n",
       "<table border=\"1\" class=\"dataframe\">\n",
       "  <thead>\n",
       "    <tr style=\"text-align: right;\">\n",
       "      <th></th>\n",
       "      <th>Unnamed: 0</th>\n",
       "      <th>id</th>\n",
       "      <th>title</th>\n",
       "      <th>release_date</th>\n",
       "      <th>overview</th>\n",
       "      <th>popularity</th>\n",
       "      <th>vote_average</th>\n",
       "      <th>vote_count</th>\n",
       "      <th>video</th>\n",
       "    </tr>\n",
       "    <tr>\n",
       "      <th>id</th>\n",
       "      <th></th>\n",
       "      <th></th>\n",
       "      <th></th>\n",
       "      <th></th>\n",
       "      <th></th>\n",
       "      <th></th>\n",
       "      <th></th>\n",
       "      <th></th>\n",
       "      <th></th>\n",
       "    </tr>\n",
       "  </thead>\n",
       "  <tbody>\n",
       "    <tr>\n",
       "      <th>19404</th>\n",
       "      <td>0</td>\n",
       "      <td>19404</td>\n",
       "      <td>Dilwale Dulhania Le Jayenge</td>\n",
       "      <td>1995-10-20</td>\n",
       "      <td>Raj is a rich, carefree, happy-go-lucky second...</td>\n",
       "      <td>25.884</td>\n",
       "      <td>8.7</td>\n",
       "      <td>3304</td>\n",
       "      <td>False</td>\n",
       "    </tr>\n",
       "    <tr>\n",
       "      <th>278</th>\n",
       "      <td>1</td>\n",
       "      <td>278</td>\n",
       "      <td>The Shawshank Redemption</td>\n",
       "      <td>1994-09-23</td>\n",
       "      <td>Framed in the 1940s for the double murder of h...</td>\n",
       "      <td>60.110</td>\n",
       "      <td>8.7</td>\n",
       "      <td>20369</td>\n",
       "      <td>False</td>\n",
       "    </tr>\n",
       "    <tr>\n",
       "      <th>238</th>\n",
       "      <td>2</td>\n",
       "      <td>238</td>\n",
       "      <td>The Godfather</td>\n",
       "      <td>1972-03-14</td>\n",
       "      <td>Spanning the years 1945 to 1955, a chronicle o...</td>\n",
       "      <td>62.784</td>\n",
       "      <td>8.7</td>\n",
       "      <td>15219</td>\n",
       "      <td>False</td>\n",
       "    </tr>\n",
       "    <tr>\n",
       "      <th>724089</th>\n",
       "      <td>3</td>\n",
       "      <td>724089</td>\n",
       "      <td>Gabriel's Inferno Part II</td>\n",
       "      <td>2020-07-31</td>\n",
       "      <td>Professor Gabriel Emerson finally learns the t...</td>\n",
       "      <td>28.316</td>\n",
       "      <td>8.6</td>\n",
       "      <td>1360</td>\n",
       "      <td>False</td>\n",
       "    </tr>\n",
       "    <tr>\n",
       "      <th>424</th>\n",
       "      <td>4</td>\n",
       "      <td>424</td>\n",
       "      <td>Schindler's List</td>\n",
       "      <td>1993-11-30</td>\n",
       "      <td>The true story of how businessman Oskar Schind...</td>\n",
       "      <td>38.661</td>\n",
       "      <td>8.6</td>\n",
       "      <td>12158</td>\n",
       "      <td>False</td>\n",
       "    </tr>\n",
       "  </tbody>\n",
       "</table>\n",
       "</div>"
      ],
      "text/plain": [
       "        Unnamed: 0      id                        title release_date  \\\n",
       "id                                                                     \n",
       "19404            0   19404  Dilwale Dulhania Le Jayenge   1995-10-20   \n",
       "278              1     278     The Shawshank Redemption   1994-09-23   \n",
       "238              2     238                The Godfather   1972-03-14   \n",
       "724089           3  724089    Gabriel's Inferno Part II   2020-07-31   \n",
       "424              4     424             Schindler's List   1993-11-30   \n",
       "\n",
       "                                                 overview  popularity  \\\n",
       "id                                                                      \n",
       "19404   Raj is a rich, carefree, happy-go-lucky second...      25.884   \n",
       "278     Framed in the 1940s for the double murder of h...      60.110   \n",
       "238     Spanning the years 1945 to 1955, a chronicle o...      62.784   \n",
       "724089  Professor Gabriel Emerson finally learns the t...      28.316   \n",
       "424     The true story of how businessman Oskar Schind...      38.661   \n",
       "\n",
       "        vote_average  vote_count  video  \n",
       "id                                       \n",
       "19404            8.7        3304  False  \n",
       "278              8.7       20369  False  \n",
       "238              8.7       15219  False  \n",
       "724089           8.6        1360  False  \n",
       "424              8.6       12158  False  "
      ]
     },
     "execution_count": 6,
     "metadata": {},
     "output_type": "execute_result"
    }
   ],
   "source": [
    "df.head()"
   ]
  },
  {
   "cell_type": "code",
   "execution_count": 7,
   "metadata": {},
   "outputs": [
    {
     "data": {
      "text/plain": [
       "Unnamed: 0      9463\n",
       "id              9463\n",
       "title           9463\n",
       "release_date    9463\n",
       "overview        9449\n",
       "popularity      9463\n",
       "vote_average    9463\n",
       "vote_count      9463\n",
       "video           9463\n",
       "dtype: int64"
      ]
     },
     "execution_count": 7,
     "metadata": {},
     "output_type": "execute_result"
    }
   ],
   "source": [
    "df.count()"
   ]
  },
  {
   "cell_type": "code",
   "execution_count": 8,
   "metadata": {},
   "outputs": [
    {
     "data": {
      "text/plain": [
       "Unnamed: 0                                                    187\n",
       "id                                                            500\n",
       "title                                              Reservoir Dogs\n",
       "release_date                                           1992-09-02\n",
       "overview        A botched robbery indicates a police informant...\n",
       "popularity                                                 28.045\n",
       "vote_average                                                  8.2\n",
       "vote_count                                                  11351\n",
       "video                                                       False\n",
       "Name: 500, dtype: object"
      ]
     },
     "execution_count": 8,
     "metadata": {},
     "output_type": "execute_result"
    }
   ],
   "source": [
    "# 使用index的查询方法，查询id为500的数据\n",
    "df.loc[500]"
   ]
  },
  {
   "cell_type": "code",
   "execution_count": 9,
   "metadata": {},
   "outputs": [
    {
     "data": {
      "text/html": [
       "<div>\n",
       "<style scoped>\n",
       "    .dataframe tbody tr th:only-of-type {\n",
       "        vertical-align: middle;\n",
       "    }\n",
       "\n",
       "    .dataframe tbody tr th {\n",
       "        vertical-align: top;\n",
       "    }\n",
       "\n",
       "    .dataframe thead th {\n",
       "        text-align: right;\n",
       "    }\n",
       "</style>\n",
       "<table border=\"1\" class=\"dataframe\">\n",
       "  <thead>\n",
       "    <tr style=\"text-align: right;\">\n",
       "      <th></th>\n",
       "      <th>Unnamed: 0</th>\n",
       "      <th>id</th>\n",
       "      <th>title</th>\n",
       "      <th>release_date</th>\n",
       "      <th>overview</th>\n",
       "      <th>popularity</th>\n",
       "      <th>vote_average</th>\n",
       "      <th>vote_count</th>\n",
       "      <th>video</th>\n",
       "    </tr>\n",
       "    <tr>\n",
       "      <th>id</th>\n",
       "      <th></th>\n",
       "      <th></th>\n",
       "      <th></th>\n",
       "      <th></th>\n",
       "      <th></th>\n",
       "      <th></th>\n",
       "      <th></th>\n",
       "      <th></th>\n",
       "      <th></th>\n",
       "    </tr>\n",
       "  </thead>\n",
       "  <tbody>\n",
       "    <tr>\n",
       "      <th>500</th>\n",
       "      <td>187</td>\n",
       "      <td>500</td>\n",
       "      <td>Reservoir Dogs</td>\n",
       "      <td>1992-09-02</td>\n",
       "      <td>A botched robbery indicates a police informant...</td>\n",
       "      <td>28.045</td>\n",
       "      <td>8.2</td>\n",
       "      <td>11351</td>\n",
       "      <td>False</td>\n",
       "    </tr>\n",
       "  </tbody>\n",
       "</table>\n",
       "</div>"
      ],
      "text/plain": [
       "     Unnamed: 0   id           title release_date  \\\n",
       "id                                                  \n",
       "500         187  500  Reservoir Dogs   1992-09-02   \n",
       "\n",
       "                                              overview  popularity  \\\n",
       "id                                                                   \n",
       "500  A botched robbery indicates a police informant...      28.045   \n",
       "\n",
       "     vote_average  vote_count  video  \n",
       "id                                    \n",
       "500           8.2       11351  False  "
      ]
     },
     "execution_count": 9,
     "metadata": {},
     "output_type": "execute_result"
    }
   ],
   "source": [
    "# 使用id列来查询\n",
    "df.loc[df['id']==500]"
   ]
  },
  {
   "attachments": {},
   "cell_type": "markdown",
   "metadata": {},
   "source": [
    "2. 使用index会提升查询效率\n",
    "- 如果index是唯一 的，pandas会使用hash表优化，查询性能为O(1)\n",
    "- 如果index不是唯一的，但是有序，pandas会使用二分查找算法，查询性能为O(log(n))\n",
    "- 如果index是完全随机的，那么每次查询都会扫描全表，查询性能为O(N)"
   ]
  },
  {
   "cell_type": "code",
   "execution_count": 10,
   "metadata": {},
   "outputs": [
    {
     "data": {
      "text/plain": [
       "True"
      ]
     },
     "execution_count": 10,
     "metadata": {},
     "output_type": "execute_result"
    }
   ],
   "source": [
    "# 索引是否唯一\n",
    "df.index.is_unique"
   ]
  },
  {
   "cell_type": "code",
   "execution_count": 12,
   "metadata": {},
   "outputs": [
    {
     "data": {
      "text/plain": [
       "False"
      ]
     },
     "execution_count": 12,
     "metadata": {},
     "output_type": "execute_result"
    }
   ],
   "source": [
    "# 索引是否单调递增\n",
    "df.index.is_monotonic_increasing"
   ]
  },
  {
   "attachments": {},
   "cell_type": "markdown",
   "metadata": {},
   "source": [
    "实验一：完全随机的顺序查询"
   ]
  },
  {
   "cell_type": "code",
   "execution_count": 13,
   "metadata": {},
   "outputs": [
    {
     "name": "stdout",
     "output_type": "stream",
     "text": [
      "43.9 µs ± 438 ns per loop (mean ± std. dev. of 7 runs, 10,000 loops each)\n"
     ]
    }
   ],
   "source": [
    "# 将数据随机打散\n",
    "from sklearn.utils import shuffle\n",
    "# 计数，查询id==500数据性能\n",
    "%timeit df.loc[500]"
   ]
  },
  {
   "attachments": {},
   "cell_type": "markdown",
   "metadata": {},
   "source": [
    "实验二：将index排序后的查询（因为本数据中的索引唯一，所以排序与不排序后都是O(1)时间复杂度"
   ]
  },
  {
   "cell_type": "code",
   "execution_count": 14,
   "metadata": {},
   "outputs": [],
   "source": [
    "df_sort=df.sort_index()"
   ]
  },
  {
   "cell_type": "code",
   "execution_count": 15,
   "metadata": {},
   "outputs": [
    {
     "data": {
      "text/html": [
       "<div>\n",
       "<style scoped>\n",
       "    .dataframe tbody tr th:only-of-type {\n",
       "        vertical-align: middle;\n",
       "    }\n",
       "\n",
       "    .dataframe tbody tr th {\n",
       "        vertical-align: top;\n",
       "    }\n",
       "\n",
       "    .dataframe thead th {\n",
       "        text-align: right;\n",
       "    }\n",
       "</style>\n",
       "<table border=\"1\" class=\"dataframe\">\n",
       "  <thead>\n",
       "    <tr style=\"text-align: right;\">\n",
       "      <th></th>\n",
       "      <th>Unnamed: 0</th>\n",
       "      <th>id</th>\n",
       "      <th>title</th>\n",
       "      <th>release_date</th>\n",
       "      <th>overview</th>\n",
       "      <th>popularity</th>\n",
       "      <th>vote_average</th>\n",
       "      <th>vote_count</th>\n",
       "      <th>video</th>\n",
       "    </tr>\n",
       "    <tr>\n",
       "      <th>id</th>\n",
       "      <th></th>\n",
       "      <th></th>\n",
       "      <th></th>\n",
       "      <th></th>\n",
       "      <th></th>\n",
       "      <th></th>\n",
       "      <th></th>\n",
       "      <th></th>\n",
       "      <th></th>\n",
       "    </tr>\n",
       "  </thead>\n",
       "  <tbody>\n",
       "    <tr>\n",
       "      <th>5</th>\n",
       "      <td>8304</td>\n",
       "      <td>5</td>\n",
       "      <td>Four Rooms</td>\n",
       "      <td>1995-12-09</td>\n",
       "      <td>It's Ted the Bellhop's first night on the job....</td>\n",
       "      <td>13.058</td>\n",
       "      <td>5.7</td>\n",
       "      <td>2062</td>\n",
       "      <td>False</td>\n",
       "    </tr>\n",
       "    <tr>\n",
       "      <th>6</th>\n",
       "      <td>5087</td>\n",
       "      <td>6</td>\n",
       "      <td>Judgment Night</td>\n",
       "      <td>1993-10-15</td>\n",
       "      <td>While racing to a boxing match, Frank, Mike, J...</td>\n",
       "      <td>9.324</td>\n",
       "      <td>6.5</td>\n",
       "      <td>218</td>\n",
       "      <td>False</td>\n",
       "    </tr>\n",
       "    <tr>\n",
       "      <th>11</th>\n",
       "      <td>145</td>\n",
       "      <td>11</td>\n",
       "      <td>Star Wars</td>\n",
       "      <td>1977-05-25</td>\n",
       "      <td>Princess Leia is captured and held hostage by ...</td>\n",
       "      <td>77.419</td>\n",
       "      <td>8.2</td>\n",
       "      <td>16428</td>\n",
       "      <td>False</td>\n",
       "    </tr>\n",
       "    <tr>\n",
       "      <th>12</th>\n",
       "      <td>577</td>\n",
       "      <td>12</td>\n",
       "      <td>Finding Nemo</td>\n",
       "      <td>2003-05-30</td>\n",
       "      <td>Nemo, an adventurous young clownfish, is unexp...</td>\n",
       "      <td>85.511</td>\n",
       "      <td>7.8</td>\n",
       "      <td>15792</td>\n",
       "      <td>False</td>\n",
       "    </tr>\n",
       "    <tr>\n",
       "      <th>13</th>\n",
       "      <td>21</td>\n",
       "      <td>13</td>\n",
       "      <td>Forrest Gump</td>\n",
       "      <td>1994-07-06</td>\n",
       "      <td>A man with a low IQ has accomplished great thi...</td>\n",
       "      <td>49.031</td>\n",
       "      <td>8.5</td>\n",
       "      <td>21823</td>\n",
       "      <td>False</td>\n",
       "    </tr>\n",
       "  </tbody>\n",
       "</table>\n",
       "</div>"
      ],
      "text/plain": [
       "    Unnamed: 0  id           title release_date  \\\n",
       "id                                                \n",
       "5         8304   5      Four Rooms   1995-12-09   \n",
       "6         5087   6  Judgment Night   1993-10-15   \n",
       "11         145  11       Star Wars   1977-05-25   \n",
       "12         577  12    Finding Nemo   2003-05-30   \n",
       "13          21  13    Forrest Gump   1994-07-06   \n",
       "\n",
       "                                             overview  popularity  \\\n",
       "id                                                                  \n",
       "5   It's Ted the Bellhop's first night on the job....      13.058   \n",
       "6   While racing to a boxing match, Frank, Mike, J...       9.324   \n",
       "11  Princess Leia is captured and held hostage by ...      77.419   \n",
       "12  Nemo, an adventurous young clownfish, is unexp...      85.511   \n",
       "13  A man with a low IQ has accomplished great thi...      49.031   \n",
       "\n",
       "    vote_average  vote_count  video  \n",
       "id                                   \n",
       "5            5.7        2062  False  \n",
       "6            6.5         218  False  \n",
       "11           8.2       16428  False  \n",
       "12           7.8       15792  False  \n",
       "13           8.5       21823  False  "
      ]
     },
     "execution_count": 15,
     "metadata": {},
     "output_type": "execute_result"
    }
   ],
   "source": [
    "df_sort.head()"
   ]
  },
  {
   "cell_type": "code",
   "execution_count": 18,
   "metadata": {},
   "outputs": [
    {
     "name": "stdout",
     "output_type": "stream",
     "text": [
      "43.9 µs ± 145 ns per loop (mean ± std. dev. of 7 runs, 10,000 loops each)\n"
     ]
    }
   ],
   "source": [
    "# 查询排序后索引为500的性能\n",
    "%timeit df_sort.loc[500]"
   ]
  },
  {
   "attachments": {},
   "cell_type": "markdown",
   "metadata": {},
   "source": [
    "3. 使用index能自动对其数据\n",
    "包括series和df"
   ]
  },
  {
   "cell_type": "code",
   "execution_count": 19,
   "metadata": {},
   "outputs": [],
   "source": [
    "s1=pd.Series([1,2,3],index=['a','b','c'])\n",
    "s2=pd.Series([2,4,5],index=['b','c','d'])"
   ]
  },
  {
   "cell_type": "code",
   "execution_count": 20,
   "metadata": {},
   "outputs": [
    {
     "data": {
      "text/plain": [
       "a    NaN\n",
       "b    4.0\n",
       "c    7.0\n",
       "d    NaN\n",
       "dtype: float64"
      ]
     },
     "execution_count": 20,
     "metadata": {},
     "output_type": "execute_result"
    }
   ],
   "source": [
    "s1+s2"
   ]
  },
  {
   "attachments": {},
   "cell_type": "markdown",
   "metadata": {},
   "source": [
    "4. 使用index更多更强大的数据结构支持\n",
    "很多强大的索引数据结构\n",
    "- CategoricalIndex，基于分类数据的index，提升性能\n",
    "- MultiIndex，多维索引，用于groupby多维聚合后结果等\n",
    "- DatetimeIndex，时间类型索引，强大的日期和时间的方法支持"
   ]
  }
 ],
 "metadata": {
  "kernelspec": {
   "display_name": "Python 3",
   "language": "python",
   "name": "python3"
  },
  "language_info": {
   "codemirror_mode": {
    "name": "ipython",
    "version": 3
   },
   "file_extension": ".py",
   "mimetype": "text/x-python",
   "name": "python",
   "nbconvert_exporter": "python",
   "pygments_lexer": "ipython3",
   "version": "3.10.5"
  },
  "orig_nbformat": 4
 },
 "nbformat": 4,
 "nbformat_minor": 2
}
